{
 "cells": [
  {
   "cell_type": "markdown",
   "metadata": {},
   "source": [
    "#  Анализ покупок\n",
    "\n",
    "Работа с чеками и корреляциями в покупках.\n",
    "\n",
    "> В 1992 году группа по консалтингу в области ритейла компании Teradata под руководством Томаса Блишока провела исследование 1.2 миллиона транзакций в 25 магазинах для ритейлера Osco Drug (Drug Store — формат разнокалиберных магазинов у дома). После анализа всех этих транзакций самым сильным правилом получилось «Между 17:00 и 19:00 чаще всего пиво и подгузники покупают вместе». К сожалению, такое правило показалось руководству Osco Drug настолько контринтуитивным, что ставить подгузники на полках рядом с пивом они не стали. Хотя объяснение паре пиво-подгузники вполне себе нашлось: когда оба члена молодой семьи возвращались с работы домой (как раз часам к 5 вечера), жены обычно отправляли мужей за подгузниками в ближайший магазин. И мужья, не долго думая, совмещали приятное с полезным — покупали подгузники по заданию жены и пиво для собственного вечернего времяпрепровождения.\n",
    "\n",
    "Для работы будем использовать датасет о продуктовых корзинах: https://www.kaggle.com/heeraldedhia/groceries-dataset"
   ]
  },
  {
   "cell_type": "code",
   "execution_count": 2,
   "metadata": {},
   "outputs": [],
   "source": [
    "import warnings\n",
    "warnings.filterwarnings(\"ignore\")\n",
    "import numpy as np\n",
    "import pandas as pd\n",
    "\n",
    "import scipy.stats as sts\n",
    "import matplotlib.pyplot as plt\n",
    "import seaborn as sns\n",
    "\n",
    "plt.style.use('ggplot')  # стиль для графиков\n",
    "%matplotlib inline"
   ]
  },
  {
   "cell_type": "markdown",
   "metadata": {},
   "source": [
    "Подружаем данные и смотрим как они выглядят."
   ]
  },
  {
   "cell_type": "code",
   "execution_count": 4,
   "metadata": {},
   "outputs": [
    {
     "name": "stdout",
     "output_type": "stream",
     "text": [
      "(38765, 3)\n"
     ]
    },
    {
     "data": {
      "text/html": [
       "<div>\n",
       "<style scoped>\n",
       "    .dataframe tbody tr th:only-of-type {\n",
       "        vertical-align: middle;\n",
       "    }\n",
       "\n",
       "    .dataframe tbody tr th {\n",
       "        vertical-align: top;\n",
       "    }\n",
       "\n",
       "    .dataframe thead th {\n",
       "        text-align: right;\n",
       "    }\n",
       "</style>\n",
       "<table border=\"1\" class=\"dataframe\">\n",
       "  <thead>\n",
       "    <tr style=\"text-align: right;\">\n",
       "      <th></th>\n",
       "      <th>id</th>\n",
       "      <th>fielddate</th>\n",
       "      <th>product</th>\n",
       "    </tr>\n",
       "  </thead>\n",
       "  <tbody>\n",
       "    <tr>\n",
       "      <th>0</th>\n",
       "      <td>1808</td>\n",
       "      <td>21-07-2015</td>\n",
       "      <td>tropical fruit</td>\n",
       "    </tr>\n",
       "    <tr>\n",
       "      <th>1</th>\n",
       "      <td>2552</td>\n",
       "      <td>05-01-2015</td>\n",
       "      <td>whole milk</td>\n",
       "    </tr>\n",
       "    <tr>\n",
       "      <th>2</th>\n",
       "      <td>2300</td>\n",
       "      <td>19-09-2015</td>\n",
       "      <td>pip fruit</td>\n",
       "    </tr>\n",
       "    <tr>\n",
       "      <th>3</th>\n",
       "      <td>1187</td>\n",
       "      <td>12-12-2015</td>\n",
       "      <td>other vegetables</td>\n",
       "    </tr>\n",
       "    <tr>\n",
       "      <th>4</th>\n",
       "      <td>3037</td>\n",
       "      <td>01-02-2015</td>\n",
       "      <td>whole milk</td>\n",
       "    </tr>\n",
       "  </tbody>\n",
       "</table>\n",
       "</div>"
      ],
      "text/plain": [
       "     id   fielddate           product\n",
       "0  1808  21-07-2015    tropical fruit\n",
       "1  2552  05-01-2015        whole milk\n",
       "2  2300  19-09-2015         pip fruit\n",
       "3  1187  12-12-2015  other vegetables\n",
       "4  3037  01-02-2015        whole milk"
      ]
     },
     "execution_count": 4,
     "metadata": {},
     "output_type": "execute_result"
    }
   ],
   "source": [
    "df = pd.read_csv('Прикладная статистика\\Данные\\groceries.csv', sep=',')\n",
    "df.columns = ['id', 'fielddate', 'product']\n",
    "print(df.shape)\n",
    "df.head()"
   ]
  },
  {
   "cell_type": "markdown",
   "metadata": {},
   "source": [
    "## 1. Корреляции\n",
    "\n",
    "Для начала поработаем с корреляциями в данных. \n",
    "\n",
    "__а)__ Какой товар покупался чаще всего? Сохраните название этого товара в переменную `product_name`."
   ]
  },
  {
   "cell_type": "code",
   "execution_count": 5,
   "metadata": {
    "nbgrader": {
     "grade": false,
     "grade_id": "cell-9d268bdaaa451d51",
     "locked": false,
     "schema_version": 3,
     "solution": true,
     "task": false
    }
   },
   "outputs": [
    {
     "data": {
      "text/plain": [
       "'whole milk'"
      ]
     },
     "execution_count": 5,
     "metadata": {},
     "output_type": "execute_result"
    }
   ],
   "source": [
    "product_name = df['product'].value_counts().index.values[0]\n",
    "product_name"
   ]
  },
  {
   "cell_type": "markdown",
   "metadata": {},
   "source": [
    "__б)__ Сколько всего уникальных заказов было сделано? Сохраните число заказов в переменную `n_cnt`."
   ]
  },
  {
   "cell_type": "code",
   "execution_count": 6,
   "metadata": {
    "nbgrader": {
     "grade": false,
     "grade_id": "cell-4c3ce54e9c52ae14",
     "locked": false,
     "schema_version": 3,
     "solution": true,
     "task": false
    }
   },
   "outputs": [
    {
     "data": {
      "text/plain": [
       "3898"
      ]
     },
     "execution_count": 6,
     "metadata": {},
     "output_type": "execute_result"
    }
   ],
   "source": [
    "n_cnt = df['id'].value_counts().size\n",
    "n_cnt"
   ]
  },
  {
   "cell_type": "markdown",
   "metadata": {},
   "source": [
    "В таблице выше в каждой строке записана информация о покупке конкретного товара. Давайте сделаем табличку размера \"число товаров\" на \"число покупок\", чтобы понимать какие товары покупались вместе, а какие нет. "
   ]
  },
  {
   "cell_type": "code",
   "execution_count": 8,
   "metadata": {},
   "outputs": [
    {
     "data": {
      "text/html": [
       "<div>\n",
       "<style scoped>\n",
       "    .dataframe tbody tr th:only-of-type {\n",
       "        vertical-align: middle;\n",
       "    }\n",
       "\n",
       "    .dataframe tbody tr th {\n",
       "        vertical-align: top;\n",
       "    }\n",
       "\n",
       "    .dataframe thead th {\n",
       "        text-align: right;\n",
       "    }\n",
       "</style>\n",
       "<table border=\"1\" class=\"dataframe\">\n",
       "  <thead>\n",
       "    <tr style=\"text-align: right;\">\n",
       "      <th>product</th>\n",
       "      <th>Instant food products</th>\n",
       "      <th>UHT-milk</th>\n",
       "      <th>abrasive cleaner</th>\n",
       "      <th>artif. sweetener</th>\n",
       "      <th>baby cosmetics</th>\n",
       "      <th>bags</th>\n",
       "      <th>baking powder</th>\n",
       "      <th>bathroom cleaner</th>\n",
       "      <th>beef</th>\n",
       "      <th>berries</th>\n",
       "      <th>...</th>\n",
       "      <th>turkey</th>\n",
       "      <th>vinegar</th>\n",
       "      <th>waffles</th>\n",
       "      <th>whipped/sour cream</th>\n",
       "      <th>whisky</th>\n",
       "      <th>white bread</th>\n",
       "      <th>white wine</th>\n",
       "      <th>whole milk</th>\n",
       "      <th>yogurt</th>\n",
       "      <th>zwieback</th>\n",
       "    </tr>\n",
       "    <tr>\n",
       "      <th>id</th>\n",
       "      <th></th>\n",
       "      <th></th>\n",
       "      <th></th>\n",
       "      <th></th>\n",
       "      <th></th>\n",
       "      <th></th>\n",
       "      <th></th>\n",
       "      <th></th>\n",
       "      <th></th>\n",
       "      <th></th>\n",
       "      <th></th>\n",
       "      <th></th>\n",
       "      <th></th>\n",
       "      <th></th>\n",
       "      <th></th>\n",
       "      <th></th>\n",
       "      <th></th>\n",
       "      <th></th>\n",
       "      <th></th>\n",
       "      <th></th>\n",
       "      <th></th>\n",
       "    </tr>\n",
       "  </thead>\n",
       "  <tbody>\n",
       "    <tr>\n",
       "      <th>1000</th>\n",
       "      <td>0</td>\n",
       "      <td>0</td>\n",
       "      <td>0</td>\n",
       "      <td>0</td>\n",
       "      <td>0</td>\n",
       "      <td>0</td>\n",
       "      <td>0</td>\n",
       "      <td>0</td>\n",
       "      <td>0</td>\n",
       "      <td>0</td>\n",
       "      <td>...</td>\n",
       "      <td>0</td>\n",
       "      <td>0</td>\n",
       "      <td>0</td>\n",
       "      <td>0</td>\n",
       "      <td>0</td>\n",
       "      <td>0</td>\n",
       "      <td>0</td>\n",
       "      <td>2</td>\n",
       "      <td>1</td>\n",
       "      <td>0</td>\n",
       "    </tr>\n",
       "    <tr>\n",
       "      <th>1001</th>\n",
       "      <td>0</td>\n",
       "      <td>0</td>\n",
       "      <td>0</td>\n",
       "      <td>0</td>\n",
       "      <td>0</td>\n",
       "      <td>0</td>\n",
       "      <td>0</td>\n",
       "      <td>0</td>\n",
       "      <td>1</td>\n",
       "      <td>0</td>\n",
       "      <td>...</td>\n",
       "      <td>0</td>\n",
       "      <td>0</td>\n",
       "      <td>0</td>\n",
       "      <td>1</td>\n",
       "      <td>0</td>\n",
       "      <td>1</td>\n",
       "      <td>0</td>\n",
       "      <td>2</td>\n",
       "      <td>0</td>\n",
       "      <td>0</td>\n",
       "    </tr>\n",
       "    <tr>\n",
       "      <th>1002</th>\n",
       "      <td>0</td>\n",
       "      <td>0</td>\n",
       "      <td>0</td>\n",
       "      <td>0</td>\n",
       "      <td>0</td>\n",
       "      <td>0</td>\n",
       "      <td>0</td>\n",
       "      <td>0</td>\n",
       "      <td>0</td>\n",
       "      <td>0</td>\n",
       "      <td>...</td>\n",
       "      <td>0</td>\n",
       "      <td>0</td>\n",
       "      <td>0</td>\n",
       "      <td>0</td>\n",
       "      <td>0</td>\n",
       "      <td>0</td>\n",
       "      <td>0</td>\n",
       "      <td>1</td>\n",
       "      <td>0</td>\n",
       "      <td>0</td>\n",
       "    </tr>\n",
       "    <tr>\n",
       "      <th>1003</th>\n",
       "      <td>0</td>\n",
       "      <td>0</td>\n",
       "      <td>0</td>\n",
       "      <td>0</td>\n",
       "      <td>0</td>\n",
       "      <td>0</td>\n",
       "      <td>0</td>\n",
       "      <td>0</td>\n",
       "      <td>0</td>\n",
       "      <td>0</td>\n",
       "      <td>...</td>\n",
       "      <td>0</td>\n",
       "      <td>0</td>\n",
       "      <td>0</td>\n",
       "      <td>0</td>\n",
       "      <td>0</td>\n",
       "      <td>0</td>\n",
       "      <td>0</td>\n",
       "      <td>0</td>\n",
       "      <td>0</td>\n",
       "      <td>0</td>\n",
       "    </tr>\n",
       "    <tr>\n",
       "      <th>1004</th>\n",
       "      <td>0</td>\n",
       "      <td>0</td>\n",
       "      <td>0</td>\n",
       "      <td>0</td>\n",
       "      <td>0</td>\n",
       "      <td>0</td>\n",
       "      <td>0</td>\n",
       "      <td>0</td>\n",
       "      <td>0</td>\n",
       "      <td>0</td>\n",
       "      <td>...</td>\n",
       "      <td>0</td>\n",
       "      <td>0</td>\n",
       "      <td>0</td>\n",
       "      <td>0</td>\n",
       "      <td>0</td>\n",
       "      <td>0</td>\n",
       "      <td>0</td>\n",
       "      <td>3</td>\n",
       "      <td>0</td>\n",
       "      <td>0</td>\n",
       "    </tr>\n",
       "  </tbody>\n",
       "</table>\n",
       "<p>5 rows × 167 columns</p>\n",
       "</div>"
      ],
      "text/plain": [
       "product  Instant food products  UHT-milk  abrasive cleaner  artif. sweetener  \\\n",
       "id                                                                             \n",
       "1000                         0         0                 0                 0   \n",
       "1001                         0         0                 0                 0   \n",
       "1002                         0         0                 0                 0   \n",
       "1003                         0         0                 0                 0   \n",
       "1004                         0         0                 0                 0   \n",
       "\n",
       "product  baby cosmetics  bags  baking powder  bathroom cleaner  beef  berries  \\\n",
       "id                                                                              \n",
       "1000                  0     0              0                 0     0        0   \n",
       "1001                  0     0              0                 0     1        0   \n",
       "1002                  0     0              0                 0     0        0   \n",
       "1003                  0     0              0                 0     0        0   \n",
       "1004                  0     0              0                 0     0        0   \n",
       "\n",
       "product  ...  turkey  vinegar  waffles  whipped/sour cream  whisky  \\\n",
       "id       ...                                                         \n",
       "1000     ...       0        0        0                   0       0   \n",
       "1001     ...       0        0        0                   1       0   \n",
       "1002     ...       0        0        0                   0       0   \n",
       "1003     ...       0        0        0                   0       0   \n",
       "1004     ...       0        0        0                   0       0   \n",
       "\n",
       "product  white bread  white wine  whole milk  yogurt  zwieback  \n",
       "id                                                              \n",
       "1000               0           0           2       1         0  \n",
       "1001               1           0           2       0         0  \n",
       "1002               0           0           1       0         0  \n",
       "1003               0           0           0       0         0  \n",
       "1004               0           0           3       0         0  \n",
       "\n",
       "[5 rows x 167 columns]"
      ]
     },
     "execution_count": 8,
     "metadata": {},
     "output_type": "execute_result"
    }
   ],
   "source": [
    "sparse_sales = pd.pivot_table(df, \n",
    "               values='fielddate', \n",
    "               index='id', \n",
    "               columns='product', \n",
    "               fill_value=0, aggfunc='count')\n",
    "\n",
    "sparse_sales.head()"
   ]
  },
  {
   "cell_type": "markdown",
   "metadata": {},
   "source": [
    "__в)__ Постройте матрицу корреляций Пирсона."
   ]
  },
  {
   "cell_type": "code",
   "execution_count": 9,
   "metadata": {
    "nbgrader": {
     "grade": false,
     "grade_id": "cell-a8f15b8ba3a946c8",
     "locked": false,
     "schema_version": 3,
     "solution": true,
     "task": false
    }
   },
   "outputs": [
    {
     "data": {
      "text/html": [
       "<div>\n",
       "<style scoped>\n",
       "    .dataframe tbody tr th:only-of-type {\n",
       "        vertical-align: middle;\n",
       "    }\n",
       "\n",
       "    .dataframe tbody tr th {\n",
       "        vertical-align: top;\n",
       "    }\n",
       "\n",
       "    .dataframe thead th {\n",
       "        text-align: right;\n",
       "    }\n",
       "</style>\n",
       "<table border=\"1\" class=\"dataframe\">\n",
       "  <thead>\n",
       "    <tr style=\"text-align: right;\">\n",
       "      <th>product</th>\n",
       "      <th>Instant food products</th>\n",
       "      <th>UHT-milk</th>\n",
       "      <th>abrasive cleaner</th>\n",
       "      <th>artif. sweetener</th>\n",
       "      <th>baby cosmetics</th>\n",
       "      <th>bags</th>\n",
       "      <th>baking powder</th>\n",
       "      <th>bathroom cleaner</th>\n",
       "      <th>beef</th>\n",
       "      <th>berries</th>\n",
       "      <th>...</th>\n",
       "      <th>turkey</th>\n",
       "      <th>vinegar</th>\n",
       "      <th>waffles</th>\n",
       "      <th>whipped/sour cream</th>\n",
       "      <th>whisky</th>\n",
       "      <th>white bread</th>\n",
       "      <th>white wine</th>\n",
       "      <th>whole milk</th>\n",
       "      <th>yogurt</th>\n",
       "      <th>zwieback</th>\n",
       "    </tr>\n",
       "    <tr>\n",
       "      <th>product</th>\n",
       "      <th></th>\n",
       "      <th></th>\n",
       "      <th></th>\n",
       "      <th></th>\n",
       "      <th></th>\n",
       "      <th></th>\n",
       "      <th></th>\n",
       "      <th></th>\n",
       "      <th></th>\n",
       "      <th></th>\n",
       "      <th></th>\n",
       "      <th></th>\n",
       "      <th></th>\n",
       "      <th></th>\n",
       "      <th></th>\n",
       "      <th></th>\n",
       "      <th></th>\n",
       "      <th></th>\n",
       "      <th></th>\n",
       "      <th></th>\n",
       "      <th></th>\n",
       "    </tr>\n",
       "  </thead>\n",
       "  <tbody>\n",
       "    <tr>\n",
       "      <th>Instant food products</th>\n",
       "      <td>1.000000</td>\n",
       "      <td>-0.006936</td>\n",
       "      <td>-0.009420</td>\n",
       "      <td>-0.010825</td>\n",
       "      <td>-0.003470</td>\n",
       "      <td>-0.004007</td>\n",
       "      <td>-0.010419</td>\n",
       "      <td>-0.008275</td>\n",
       "      <td>0.005847</td>\n",
       "      <td>-0.014528</td>\n",
       "      <td>...</td>\n",
       "      <td>0.025355</td>\n",
       "      <td>0.021851</td>\n",
       "      <td>0.005348</td>\n",
       "      <td>0.014025</td>\n",
       "      <td>-0.005670</td>\n",
       "      <td>0.016640</td>\n",
       "      <td>0.002853</td>\n",
       "      <td>0.015981</td>\n",
       "      <td>0.005071</td>\n",
       "      <td>0.018221</td>\n",
       "    </tr>\n",
       "    <tr>\n",
       "      <th>UHT-milk</th>\n",
       "      <td>-0.006936</td>\n",
       "      <td>1.000000</td>\n",
       "      <td>0.013806</td>\n",
       "      <td>0.006105</td>\n",
       "      <td>-0.007877</td>\n",
       "      <td>0.018349</td>\n",
       "      <td>0.009462</td>\n",
       "      <td>-0.018785</td>\n",
       "      <td>0.002897</td>\n",
       "      <td>0.020801</td>\n",
       "      <td>...</td>\n",
       "      <td>-0.003803</td>\n",
       "      <td>-0.024466</td>\n",
       "      <td>0.009144</td>\n",
       "      <td>0.006618</td>\n",
       "      <td>-0.012871</td>\n",
       "      <td>-0.011550</td>\n",
       "      <td>0.009990</td>\n",
       "      <td>0.028747</td>\n",
       "      <td>0.006505</td>\n",
       "      <td>0.028753</td>\n",
       "    </tr>\n",
       "    <tr>\n",
       "      <th>abrasive cleaner</th>\n",
       "      <td>-0.009420</td>\n",
       "      <td>0.013806</td>\n",
       "      <td>1.000000</td>\n",
       "      <td>-0.006523</td>\n",
       "      <td>-0.002091</td>\n",
       "      <td>-0.002415</td>\n",
       "      <td>-0.013429</td>\n",
       "      <td>-0.004986</td>\n",
       "      <td>0.018970</td>\n",
       "      <td>0.001813</td>\n",
       "      <td>...</td>\n",
       "      <td>0.012922</td>\n",
       "      <td>-0.008507</td>\n",
       "      <td>-0.007390</td>\n",
       "      <td>0.002163</td>\n",
       "      <td>-0.003417</td>\n",
       "      <td>0.010777</td>\n",
       "      <td>0.000107</td>\n",
       "      <td>0.003558</td>\n",
       "      <td>0.008360</td>\n",
       "      <td>-0.009420</td>\n",
       "    </tr>\n",
       "    <tr>\n",
       "      <th>artif. sweetener</th>\n",
       "      <td>-0.010825</td>\n",
       "      <td>0.006105</td>\n",
       "      <td>-0.006523</td>\n",
       "      <td>1.000000</td>\n",
       "      <td>0.105251</td>\n",
       "      <td>-0.002775</td>\n",
       "      <td>-0.015432</td>\n",
       "      <td>-0.005730</td>\n",
       "      <td>-0.006645</td>\n",
       "      <td>0.016042</td>\n",
       "      <td>...</td>\n",
       "      <td>0.049392</td>\n",
       "      <td>-0.009776</td>\n",
       "      <td>0.010179</td>\n",
       "      <td>-0.006614</td>\n",
       "      <td>-0.003926</td>\n",
       "      <td>-0.006806</td>\n",
       "      <td>-0.018394</td>\n",
       "      <td>0.029591</td>\n",
       "      <td>-0.024397</td>\n",
       "      <td>-0.010825</td>\n",
       "    </tr>\n",
       "    <tr>\n",
       "      <th>baby cosmetics</th>\n",
       "      <td>-0.003470</td>\n",
       "      <td>-0.007877</td>\n",
       "      <td>-0.002091</td>\n",
       "      <td>0.105251</td>\n",
       "      <td>1.000000</td>\n",
       "      <td>-0.000889</td>\n",
       "      <td>-0.004947</td>\n",
       "      <td>-0.001837</td>\n",
       "      <td>0.014798</td>\n",
       "      <td>-0.007983</td>\n",
       "      <td>...</td>\n",
       "      <td>-0.003919</td>\n",
       "      <td>-0.003134</td>\n",
       "      <td>-0.007413</td>\n",
       "      <td>-0.011288</td>\n",
       "      <td>-0.001259</td>\n",
       "      <td>-0.008476</td>\n",
       "      <td>-0.005896</td>\n",
       "      <td>-0.021056</td>\n",
       "      <td>-0.000410</td>\n",
       "      <td>-0.003470</td>\n",
       "    </tr>\n",
       "  </tbody>\n",
       "</table>\n",
       "<p>5 rows × 167 columns</p>\n",
       "</div>"
      ],
      "text/plain": [
       "product                Instant food products  UHT-milk  abrasive cleaner  \\\n",
       "product                                                                    \n",
       "Instant food products               1.000000 -0.006936         -0.009420   \n",
       "UHT-milk                           -0.006936  1.000000          0.013806   \n",
       "abrasive cleaner                   -0.009420  0.013806          1.000000   \n",
       "artif. sweetener                   -0.010825  0.006105         -0.006523   \n",
       "baby cosmetics                     -0.003470 -0.007877         -0.002091   \n",
       "\n",
       "product                artif. sweetener  baby cosmetics      bags  \\\n",
       "product                                                             \n",
       "Instant food products         -0.010825       -0.003470 -0.004007   \n",
       "UHT-milk                       0.006105       -0.007877  0.018349   \n",
       "abrasive cleaner              -0.006523       -0.002091 -0.002415   \n",
       "artif. sweetener               1.000000        0.105251 -0.002775   \n",
       "baby cosmetics                 0.105251        1.000000 -0.000889   \n",
       "\n",
       "product                baking powder  bathroom cleaner      beef   berries  \\\n",
       "product                                                                      \n",
       "Instant food products      -0.010419         -0.008275  0.005847 -0.014528   \n",
       "UHT-milk                    0.009462         -0.018785  0.002897  0.020801   \n",
       "abrasive cleaner           -0.013429         -0.004986  0.018970  0.001813   \n",
       "artif. sweetener           -0.015432         -0.005730 -0.006645  0.016042   \n",
       "baby cosmetics             -0.004947         -0.001837  0.014798 -0.007983   \n",
       "\n",
       "product                ...    turkey   vinegar   waffles  whipped/sour cream  \\\n",
       "product                ...                                                     \n",
       "Instant food products  ...  0.025355  0.021851  0.005348            0.014025   \n",
       "UHT-milk               ... -0.003803 -0.024466  0.009144            0.006618   \n",
       "abrasive cleaner       ...  0.012922 -0.008507 -0.007390            0.002163   \n",
       "artif. sweetener       ...  0.049392 -0.009776  0.010179           -0.006614   \n",
       "baby cosmetics         ... -0.003919 -0.003134 -0.007413           -0.011288   \n",
       "\n",
       "product                  whisky  white bread  white wine  whole milk  \\\n",
       "product                                                                \n",
       "Instant food products -0.005670     0.016640    0.002853    0.015981   \n",
       "UHT-milk              -0.012871    -0.011550    0.009990    0.028747   \n",
       "abrasive cleaner      -0.003417     0.010777    0.000107    0.003558   \n",
       "artif. sweetener      -0.003926    -0.006806   -0.018394    0.029591   \n",
       "baby cosmetics        -0.001259    -0.008476   -0.005896   -0.021056   \n",
       "\n",
       "product                  yogurt  zwieback  \n",
       "product                                    \n",
       "Instant food products  0.005071  0.018221  \n",
       "UHT-milk               0.006505  0.028753  \n",
       "abrasive cleaner       0.008360 -0.009420  \n",
       "artif. sweetener      -0.024397 -0.010825  \n",
       "baby cosmetics        -0.000410 -0.003470  \n",
       "\n",
       "[5 rows x 167 columns]"
      ]
     },
     "execution_count": 9,
     "metadata": {},
     "output_type": "execute_result"
    }
   ],
   "source": [
    "sales_correlation = sparse_sales.corr()\n",
    "sales_correlation.head()"
   ]
  },
  {
   "cell_type": "markdown",
   "metadata": {},
   "source": [
    "Какие продукты сильнее всего коррелируют с яйцами, `domestic eggs` (их чаще всего покупают вместе)?  Сохраните название самого скоррелированного продукта в переменную `top_1`."
   ]
  },
  {
   "cell_type": "code",
   "execution_count": 10,
   "metadata": {
    "nbgrader": {
     "grade": false,
     "grade_id": "cell-cf20442762e0f104",
     "locked": false,
     "schema_version": 3,
     "solution": true,
     "task": false
    }
   },
   "outputs": [
    {
     "data": {
      "text/plain": [
       "'meat spreads'"
      ]
     },
     "execution_count": 10,
     "metadata": {},
     "output_type": "execute_result"
    }
   ],
   "source": [
    "top = sales_correlation['domestic eggs'].sort_values(ascending = False)\n",
    "top_1 = top.index.values[1]\n",
    "top_1"
   ]
  },
  {
   "cell_type": "markdown",
   "metadata": {},
   "source": [
    "Какие продукты \"мешают\" купить яйца, то есть отрицательно коррелируют с их покупкой? Сохраните название продукта с самой большой отрицательной корреляцией в переменную `bottom_1`."
   ]
  },
  {
   "cell_type": "code",
   "execution_count": 11,
   "metadata": {
    "nbgrader": {
     "grade": false,
     "grade_id": "cell-fbd202e1529e31c7",
     "locked": false,
     "schema_version": 3,
     "solution": true,
     "task": false
    }
   },
   "outputs": [
    {
     "data": {
      "text/plain": [
       "'cooking chocolate'"
      ]
     },
     "execution_count": 11,
     "metadata": {},
     "output_type": "execute_result"
    }
   ],
   "source": [
    "bottom = sales_correlation['domestic eggs'].sort_values(ascending = True)\n",
    "bottom_1 = bottom.index.values[1]\n",
    "bottom_1 "
   ]
  },
  {
   "cell_type": "markdown",
   "metadata": {},
   "source": [
    "Напишите код, который выводит самые коррелируемые товары для случайного продукта из списка `unique_products`."
   ]
  },
  {
   "cell_type": "code",
   "execution_count": 12,
   "metadata": {
    "nbgrader": {
     "grade": false,
     "grade_id": "cell-50a7be49564df467",
     "locked": false,
     "schema_version": 3,
     "solution": true,
     "task": false
    }
   },
   "outputs": [
    {
     "name": "stdout",
     "output_type": "stream",
     "text": [
      "baking powder\n"
     ]
    },
    {
     "data": {
      "text/plain": [
       "product\n",
       "napkins                     -0.031884\n",
       "semi-finished bread         -0.026665\n",
       "photo/film                  -0.024999\n",
       "packaged fruit/vegetables   -0.023886\n",
       "sweet spreads               -0.023582\n",
       "herbs                       -0.021168\n",
       "vinegar                     -0.020127\n",
       "spread cheese               -0.019290\n",
       "house keeping products      -0.019263\n",
       "cereals                     -0.018603\n",
       "Name: baking powder, dtype: float64"
      ]
     },
     "execution_count": 12,
     "metadata": {},
     "output_type": "execute_result"
    }
   ],
   "source": [
    "unique_products = df['product'].unique()\n",
    "\n",
    "product = np.random.choice(unique_products)\n",
    "print(product)\n",
    "sales_correlation[product].sort_values(ascending = False).head(10)\n",
    "sales_correlation[product].sort_values(ascending = True).head(10)"
   ]
  },
  {
   "cell_type": "markdown",
   "metadata": {},
   "source": [
    "__г)__ Какие два продукта коррелируют сильнее всего? Положите их название в лист `answer`"
   ]
  },
  {
   "cell_type": "code",
   "execution_count": 13,
   "metadata": {
    "nbgrader": {
     "grade": false,
     "grade_id": "cell-dd462f4db3d9a2f7",
     "locked": false,
     "schema_version": 3,
     "solution": true,
     "task": false
    }
   },
   "outputs": [
    {
     "data": {
      "text/plain": [
       "Index(['preservation products', 'soups'], dtype='object', name='product')"
      ]
     },
     "execution_count": 13,
     "metadata": {},
     "output_type": "execute_result"
    }
   ],
   "source": [
    "S = sales_correlation.values\n",
    "S = S - np.eye(S.shape[0])\n",
    "answer = sales_correlation.iloc[np.where(S == S.max())].index\n",
    "answer"
   ]
  },
  {
   "cell_type": "markdown",
   "metadata": {},
   "source": [
    "## 2. Зависимость. \n",
    "\n",
    "Cобытия $A$ и $B$ называются независимыми, если $P(AB) = P(A)\\cdot P(B)$. Отталкиваясь от этого определения, можно ввести другую характеристику, которая показывает, насколько продукты зависят друг от друга, а именно __поддержку (lift).__ \n",
    "\n",
    "$$\n",
    "lift = \\frac{P(AB)}{P(A)\\cdot P(B)}\n",
    "$$"
   ]
  },
  {
   "cell_type": "markdown",
   "metadata": {},
   "source": [
    "Эта метрика описывает отношение зависимости товаров к их независимости. Если оказалось, что `lift = 1`, это означает, что покупка товара $A$ не зависит от покупки товара $B$. Если `lift > 1`, то это означает, что вероятность встретить оба товара в чеке, $P(AB)$ высокая, то есть товары покупают вместе. Если `lift < 1`, это означает, что товары, наоборот, очень часто покупают по-отдельности. "
   ]
  },
  {
   "cell_type": "markdown",
   "metadata": {},
   "source": [
    "__д)__ Посчитайте значение метрики для яиц и молока (`'whole milk', 'domestic eggs'`). Запишите получившиеся значение метрики в переменную `answer`."
   ]
  },
  {
   "cell_type": "code",
   "execution_count": 14,
   "metadata": {
    "nbgrader": {
     "grade": false,
     "grade_id": "cell-db191a336be19f97",
     "locked": false,
     "schema_version": 3,
     "solution": true,
     "task": false
    }
   },
   "outputs": [
    {
     "data": {
      "text/plain": [
       "1.9908069458631261"
      ]
     },
     "execution_count": 14,
     "metadata": {},
     "output_type": "execute_result"
    }
   ],
   "source": [
    "ab = (sparse_sales [['whole milk', 'domestic eggs']] > 1).all(axis=1).mean()\n",
    "a = (sparse_sales ['whole milk'] > 1).mean()\n",
    "b = (sparse_sales ['domestic eggs'] > 1).mean()\n",
    "answer = ab/(a*b)\n",
    "answer"
   ]
  },
  {
   "cell_type": "markdown",
   "metadata": {},
   "source": [
    "__е)__ Посчитайте значение метрики для всех пар продуктов из датасета. Сохраните значения в словарик `dict`. В качестве ключа используете кортеж из пары продуктов. Чтобы удобнее было перебрать все сочетания, используйте `combinations` из модуля `itertools`.\n",
    "\n",
    "Чтобы при подсчётах не возникало деления на ноль, добавим к знаменателю маленькое число, например `1e-10`."
   ]
  },
  {
   "cell_type": "code",
   "execution_count": 15,
   "metadata": {
    "nbgrader": {
     "grade": false,
     "grade_id": "cell-e512719bd3dbbd34",
     "locked": false,
     "schema_version": 3,
     "solution": true,
     "task": false
    }
   },
   "outputs": [
    {
     "data": {
      "application/vnd.jupyter.widget-view+json": {
       "model_id": "568ca958713c4f8ab751861770bc5bef",
       "version_major": 2,
       "version_minor": 0
      },
      "text/plain": [
       "0it [00:00, ?it/s]"
      ]
     },
     "metadata": {},
     "output_type": "display_data"
    }
   ],
   "source": [
    "from itertools import combinations\n",
    "from tqdm.notebook import tqdm\n",
    "food_lift = dict()\n",
    "\n",
    "for item,jtem in tqdm(combinations(unique_products, 2)):\n",
    "    ab = (sparse_sales [[item, jtem]] > 1).all(axis=1).mean()\n",
    "    a = (sparse_sales [item] > 1).mean()\n",
    "    b = (sparse_sales [jtem] > 1).mean()\n",
    "    food_lift[(item,jtem)] = ab/(a*b + 1e-10)"
   ]
  },
  {
   "cell_type": "markdown",
   "metadata": {},
   "source": [
    "Сколько пар продуктов покупали вместе хотя бы раз? Запишите ответ в переменную `answer`."
   ]
  },
  {
   "cell_type": "code",
   "execution_count": 16,
   "metadata": {
    "nbgrader": {
     "grade": false,
     "grade_id": "cell-097e70120aa5a596",
     "locked": false,
     "schema_version": 3,
     "solution": true,
     "task": false
    }
   },
   "outputs": [
    {
     "data": {
      "text/plain": [
       "723"
      ]
     },
     "execution_count": 16,
     "metadata": {},
     "output_type": "execute_result"
    }
   ],
   "source": [
    "food = [item for item in sorted(food_lift.items(), key=lambda w: w[1], reverse=True) if item[1] > 0]\n",
    "answer = len(food)\n",
    "answer"
   ]
  },
  {
   "cell_type": "markdown",
   "metadata": {},
   "source": [
    "Для какой пары продуктов метрика $lift$ оказалась самой большой? "
   ]
  },
  {
   "cell_type": "code",
   "execution_count": 19,
   "metadata": {
    "nbgrader": {
     "grade": false,
     "grade_id": "cell-e0e772420c99a1f4",
     "locked": false,
     "schema_version": 3,
     "solution": true,
     "task": false
    }
   },
   "outputs": [
    {
     "data": {
      "text/plain": [
       "[(('pasta', 'pudding powder'), 1298.6755799524421),\n",
       " (('misc. beverages', 'cling film/bags'), 487.1574741565755),\n",
       " (('candy', 'semi-finished bread'), 433.0380027293242),\n",
       " (('meat', 'photo/film'), 324.7922081331131),\n",
       " (('hamburger meat', 'popcorn'), 278.3983564492798),\n",
       " (('frozen meals', 'frozen dessert'), 278.3983564492798),\n",
       " (('oil', 'instant coffee'), 243.6018663426727),\n",
       " (('turkey', 'long life bakery product'), 149.91431592814772),\n",
       " (('cream cheese ', 'frozen dessert'), 149.91431592814772),\n",
       " (('oil', 'seasonal products'), 121.80671631107019)]"
      ]
     },
     "execution_count": 19,
     "metadata": {},
     "output_type": "execute_result"
    }
   ],
   "source": [
    "food[:10]"
   ]
  },
  {
   "cell_type": "markdown",
   "metadata": {},
   "source": [
    "Сколько раз эти продукты встретились в выборке? Как думаете адеватно ли делать выводы по такому объёму данных? "
   ]
  },
  {
   "cell_type": "code",
   "execution_count": 20,
   "metadata": {
    "nbgrader": {
     "grade": false,
     "grade_id": "cell-cfbf5b5deb321f36",
     "locked": false,
     "schema_version": 3,
     "solution": true,
     "task": false
    }
   },
   "outputs": [
    {
     "data": {
      "text/plain": [
       "(1, 3, 1)"
      ]
     },
     "execution_count": 20,
     "metadata": {},
     "output_type": "execute_result"
    }
   ],
   "source": [
    "\n",
    "ab = (sparse_sales [['pasta', 'pudding powder']] > 1).all(axis=1).sum()\n",
    "a = (sparse_sales ['pasta'] > 1).sum()\n",
    "b = (sparse_sales ['pudding powder'] > 1).sum()\n",
    "ab, a, b"
   ]
  },
  {
   "cell_type": "markdown",
   "metadata": {},
   "source": [
    "Для какой пары продуктов метрика оказывается самой маленькой? "
   ]
  },
  {
   "cell_type": "code",
   "execution_count": 21,
   "metadata": {
    "nbgrader": {
     "grade": false,
     "grade_id": "cell-0c88c82cc7bdef09",
     "locked": false,
     "schema_version": 3,
     "solution": true,
     "task": false
    }
   },
   "outputs": [
    {
     "data": {
      "text/plain": [
       "[(('butter', 'root vegetables'), 0.6584457769477846),\n",
       " (('soda', 'frozen vegetables'), 0.6187300095042264),\n",
       " (('other vegetables', 'dessert'), 0.6065980514021808),\n",
       " (('coffee', 'soda'), 0.5728981671833303),\n",
       " (('root vegetables', 'pork'), 0.5725615643400158),\n",
       " (('chicken', 'soda'), 0.5333879569716461),\n",
       " (('yogurt', 'brown bread'), 0.5233618696002728),\n",
       " (('root vegetables', 'bottled beer'), 0.4180608499336609),\n",
       " (('soda', 'curd'), 0.368291708276899),\n",
       " (('whole milk', 'coffee'), 0.2703564703294116)]"
      ]
     },
     "execution_count": 21,
     "metadata": {},
     "output_type": "execute_result"
    }
   ],
   "source": [
    "food[-10:]"
   ]
  },
  {
   "cell_type": "markdown",
   "metadata": {},
   "source": [
    "## 3. Расчет метрик только для часто покупаемых товаров\n",
    " \n",
    "\n",
    "Выше мы увидели, что некоторые продукты встречаются в выборке очень редко. Понятное дело, что по ним у нас не получится построить хорошее ассоциативное правило. Попробуйте повторить расчёт той же метрики, но с условием что продукт покупали больше 10 раз. "
   ]
  },
  {
   "cell_type": "code",
   "execution_count": 23,
   "metadata": {
    "nbgrader": {
     "grade": false,
     "grade_id": "cell-aa30f3933e22e20d",
     "locked": false,
     "schema_version": 3,
     "solution": true,
     "task": false
    }
   },
   "outputs": [
    {
     "data": {
      "application/vnd.jupyter.widget-view+json": {
       "model_id": "ac1c588d7d174d90a108454c0b981f97",
       "version_major": 2,
       "version_minor": 0
      },
      "text/plain": [
       "HBox(children=(FloatProgress(value=1.0, bar_style='info', max=1.0), HTML(value='')))"
      ]
     },
     "metadata": {},
     "output_type": "display_data"
    },
    {
     "name": "stdout",
     "output_type": "stream",
     "text": [
      "\n"
     ]
    },
    {
     "data": {
      "text/plain": [
       "[(('butter', 'root vegetables'), 0.00016891891891891606),\n",
       " (('soda', 'frozen vegetables'), 0.0001587301587301562),\n",
       " (('other vegetables', 'dessert'), 0.00015561780267662377),\n",
       " (('coffee', 'soda'), 0.00014697236919458925),\n",
       " (('root vegetables', 'pork'), 0.0001468860164512317),\n",
       " (('chicken', 'soda'), 0.0001368363437328936),\n",
       " (('yogurt', 'brown bread'), 0.00013426423200859112),\n",
       " (('root vegetables', 'bottled beer'), 0.0001072501072501061),\n",
       " (('soda', 'curd'), 9.44822373393793e-05),\n",
       " (('whole milk', 'coffee'), 6.93577472603685e-05)]"
      ]
     },
     "execution_count": 23,
     "metadata": {},
     "output_type": "execute_result"
    }
   ],
   "source": [
    "food_lift = dict()\n",
    "\n",
    "for item,jtem in tqdm(combinations(unique_products, 2)):\n",
    "    ab = (sparse_sales [[item, jtem]] > 1).all(axis=1).sum()\n",
    "    a = (sparse_sales [item] > 1).sum()\n",
    "    b = (sparse_sales [jtem] > 1).sum()\n",
    "    \n",
    "    if (a > 10)&(b > 10):\n",
    "        food_lift[(item,jtem)] = ab/(a*b + 1e-10)\n",
    "    \n",
    "food = [item for item in sorted(food_lift.items(), key=lambda w: w[1], reverse=True) if item[1] > 0]\n",
    "len(food)\n",
    "food[:10]\n",
    "food[-10:]"
   ]
  }
 ],
 "metadata": {
  "celltoolbar": "Create Assignment",
  "kernelspec": {
   "display_name": "Python 3 (ipykernel)",
   "language": "python",
   "name": "python3"
  },
  "language_info": {
   "codemirror_mode": {
    "name": "ipython",
    "version": 3
   },
   "file_extension": ".py",
   "mimetype": "text/x-python",
   "name": "python",
   "nbconvert_exporter": "python",
   "pygments_lexer": "ipython3",
   "version": "3.9.7"
  }
 },
 "nbformat": 4,
 "nbformat_minor": 2
}
