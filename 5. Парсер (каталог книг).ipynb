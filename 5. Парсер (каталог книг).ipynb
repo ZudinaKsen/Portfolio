{
 "cells": [
  {
   "cell_type": "markdown",
   "metadata": {},
   "source": [
    "\n",
    "#  Сбор данных\n",
    "\n",
    "Собираем данные [о ценах на книги.](http://books.toscrape.com)\n"
   ]
  },
  {
   "cell_type": "code",
   "execution_count": 37,
   "metadata": {
    "deletable": false,
    "nbgrader": {
     "cell_type": "code",
     "checksum": "763c9b123c61d02adcf8e688c14b824e",
     "grade": false,
     "grade_id": "cell-a1d057ec06e84bdd",
     "locked": false,
     "schema_version": 3,
     "solution": true,
     "task": false
    }
   },
   "outputs": [],
   "source": [
    "from typing import List\n",
    "import warnings\n",
    "warnings.filterwarnings(\"ignore\")\n"
   ]
  },
  {
   "cell_type": "code",
   "execution_count": 38,
   "metadata": {},
   "outputs": [],
   "source": [
    "from requests import get\n",
    "import pandas as pd\n",
    "import numpy as np\n",
    "from bs4 import BeautifulSoup"
   ]
  },
  {
   "cell_type": "code",
   "execution_count": 39,
   "metadata": {},
   "outputs": [],
   "source": [
    "import time"
   ]
  },
  {
   "cell_type": "code",
   "execution_count": 40,
   "metadata": {},
   "outputs": [
    {
     "name": "stdout",
     "output_type": "stream",
     "text": [
      "Requirement already satisfied: lxml in c:\\users\\ksenkys\\anaconda3\\lib\\site-packages (4.6.3)\n"
     ]
    },
    {
     "name": "stderr",
     "output_type": "stream",
     "text": [
      "DEPRECATION: pyodbc 4.0.0-unsupported has a non-standard version number. pip 23.3 will enforce this behaviour change. A possible replacement is to upgrade to a newer version of pyodbc or contact the author to suggest that they release a version with a conforming version number. Discussion can be found at https://github.com/pypa/pip/issues/12063\n"
     ]
    }
   ],
   "source": [
    "!pip3 install lxml"
   ]
  },
  {
   "cell_type": "code",
   "execution_count": 41,
   "metadata": {
    "deletable": false,
    "editable": false,
    "nbgrader": {
     "cell_type": "code",
     "checksum": "271359fd82a7bed1144248a66405ca7f",
     "grade": true,
     "grade_id": "cell-5e0ee82c41142a9d",
     "locked": true,
     "points": 1,
     "schema_version": 3,
     "solution": false,
     "task": false
    }
   },
   "outputs": [],
   "source": [
    "# фиктивная проверка"
   ]
  },
  {
   "cell_type": "markdown",
   "metadata": {},
   "source": [
    "\n",
    "# 1. Сбор ссылок на книги\n",
    "\n",
    "__Пишем функцию `get_soup`, которая по ссылке возвращает html-разметку страницы в формате `bs4`__"
   ]
  },
  {
   "cell_type": "code",
   "execution_count": 42,
   "metadata": {
    "deletable": false,
    "nbgrader": {
     "cell_type": "code",
     "checksum": "9c97f15308c26fba4787e1ed46be1762",
     "grade": false,
     "grade_id": "cell-bb3dd3de95e8b98e",
     "locked": false,
     "schema_version": 3,
     "solution": true,
     "task": false
    }
   },
   "outputs": [],
   "source": [
    "def get_page_soup(url_link: str) -> BeautifulSoup:\n",
    "    response = get(url_link)\n",
    "    return BeautifulSoup(response.content, 'html.parser')"
   ]
  },
  {
   "cell_type": "code",
   "execution_count": null,
   "metadata": {},
   "outputs": [],
   "source": [
    "main_url = 'http://books.toscrape.com/catalogue/'\n",
    "page_number = 5\n",
    "\n",
    "soup = get_page_soup(main_url + f'page-{page_number}.html')"
   ]
  },
  {
   "cell_type": "code",
   "execution_count": 44,
   "metadata": {},
   "outputs": [
    {
     "data": {
      "text/plain": [
       "'Books to Scrape'"
      ]
     },
     "execution_count": 44,
     "metadata": {},
     "output_type": "execute_result"
    }
   ],
   "source": [
    "main_url = 'http://books.toscrape.com/catalogue/'\n",
    "page_number = 5\n",
    "\n",
    "soup = get_page_soup(main_url + f'page-{page_number}.html')\n",
    "soup.find_all('a')[0].text"
   ]
  },
  {
   "cell_type": "markdown",
   "metadata": {},
   "source": [
    "__Пишем функцию `get_books_links`, которая находит в html-разметке страницы ссылки на странички с отдельными книгами.__"
   ]
  },
  {
   "cell_type": "code",
   "execution_count": null,
   "metadata": {},
   "outputs": [],
   "source": [
    "def get_book_links(page_soup: BeautifulSoup) -> List[str]:\n",
    "    books = soup.find_all('li', {'class': 'col-xs-6 col-sm-4 col-md-3 col-lg-3'})\n",
    "    return [item.h3.a.get('href') for item in books]"
   ]
  },
  {
   "cell_type": "code",
   "execution_count": null,
   "metadata": {},
   "outputs": [],
   "source": [
    "books = soup.find_all('li', {'class': 'col-xs-6 col-sm-4 col-md-3 col-lg-3'}) "
   ]
  },
  {
   "cell_type": "code",
   "execution_count": 68,
   "metadata": {},
   "outputs": [
    {
     "data": {
      "text/plain": [
       "'princess-jellyfish-2-in-1-omnibus-vol-01-princess-jellyfish-2-in-1-omnibus-1_920/index.html'"
      ]
     },
     "execution_count": 68,
     "metadata": {},
     "output_type": "execute_result"
    }
   ],
   "source": [
    "books[0]"
   ]
  },
  {
   "cell_type": "code",
   "execution_count": 36,
   "metadata": {},
   "outputs": [
    {
     "data": {
      "text/plain": [
       "'princess-jellyfish-2-in-1-omnibus-vol-01-princess-jellyfish-2-in-1-omnibus-1_920/index.html'"
      ]
     },
     "execution_count": 36,
     "metadata": {},
     "output_type": "execute_result"
    }
   ],
   "source": [
    "books[0].h3.a.get('href')"
   ]
  },
  {
   "cell_type": "code",
   "execution_count": 55,
   "metadata": {},
   "outputs": [
    {
     "data": {
      "text/plain": [
       "'princess-jellyfish-2-in-1-omnibus-vol-01-princess-jellyfish-2-in-1-omnibus-1_920/index.html'"
      ]
     },
     "execution_count": 55,
     "metadata": {},
     "output_type": "execute_result"
    }
   ],
   "source": [
    "books = soup.find_all('li', {'class': 'col-xs-6 col-sm-4 col-md-3 col-lg-3'})\n",
    "books[0].h3.a.get('href')"
   ]
  },
  {
   "cell_type": "code",
   "execution_count": 51,
   "metadata": {
    "deletable": false,
    "nbgrader": {
     "cell_type": "code",
     "checksum": "f2bcfb757d246472754f42327e7f193d",
     "grade": false,
     "grade_id": "cell-565bf344d89fef43",
     "locked": false,
     "schema_version": 3,
     "solution": true,
     "task": false
    }
   },
   "outputs": [],
   "source": []
  },
  {
   "cell_type": "markdown",
   "metadata": {},
   "source": [
    "__С помощью цикла собераем в лист `book_links` первые 200 книг.__"
   ]
  },
  {
   "cell_type": "code",
   "execution_count": 66,
   "metadata": {
    "deletable": false,
    "nbgrader": {
     "cell_type": "code",
     "checksum": "25cc39adb04c7c00c5e117837d9c606d",
     "grade": false,
     "grade_id": "cell-883211fab847e672",
     "locked": false,
     "schema_version": 3,
     "solution": true,
     "task": false
    }
   },
   "outputs": [
    {
     "data": {
      "application/vnd.jupyter.widget-view+json": {
       "model_id": "b14e47e1a1864e56b700b6f0dc642488",
       "version_major": 2,
       "version_minor": 0
      },
      "text/plain": [
       "  0%|          | 0/10 [00:00<?, ?it/s]"
      ]
     },
     "metadata": {},
     "output_type": "display_data"
    }
   ],
   "source": [
    "from tqdm.notebook import tqdm\n",
    "import time\n",
    "\n",
    "book_links = []\n",
    "main_url = 'https://books.toscrape.com/catalogue/category/books_1/'\n",
    "\n",
    "\n",
    "\n",
    "for p in tqdm(range(1, 11)):\n",
    "    url = main_url + f'page-{p}.html'\n",
    "    page_soup = get_page_soup(url)\n",
    "    books = get_book_links(page_soup)\n",
    "    book_links.extend(books)\n",
    "    time.sleep(0.02)\n",
    "\n"
   ]
  },
  {
   "cell_type": "code",
   "execution_count": 90,
   "metadata": {},
   "outputs": [
    {
     "data": {
      "text/plain": [
       "200"
      ]
     },
     "execution_count": 90,
     "metadata": {},
     "output_type": "execute_result"
    }
   ],
   "source": [
    "len(book_links)"
   ]
  },
  {
   "cell_type": "markdown",
   "metadata": {},
   "source": [
    "# 2. Сбор информации о книгах \n",
    "\n",
    "Пишем несколько небольших функций, которые собирают различные данные об одной книге. Информацию о книге собираем в виде словаря вида \n",
    "\n",
    "```\n",
    "{ 'name': 'Преступление и наказание', 'rating': 1, 'description': 'ужасно депрессивная книга', ... }\n",
    "\n",
    "```"
   ]
  },
  {
   "cell_type": "markdown",
   "metadata": {},
   "source": [
    "- название\n",
    "- рейтинг\n",
    "- описание\n",
    "- налог\n",
    "- цена"
   ]
  },
  {
   "cell_type": "markdown",
   "metadata": {},
   "source": [
    "Подгруждаем библиотеки"
   ]
  },
  {
   "cell_type": "code",
   "execution_count": 71,
   "metadata": {},
   "outputs": [],
   "source": [
    "import requests\n",
    "from bs4 import BeautifulSoup\n",
    "import typing as tp\n",
    "from tqdm.notebook import tqdm\n",
    "import time"
   ]
  },
  {
   "cell_type": "markdown",
   "metadata": {},
   "source": [
    "Используя ссылку на сайт, выгружаем с него контент и представляем его в виде дерева"
   ]
  },
  {
   "cell_type": "code",
   "execution_count": null,
   "metadata": {},
   "outputs": [],
   "source": [
    "def get_soup(url: str) -> BeautifulSoup:\n",
    "    res = get(url)\n",
    "    return BeautifulSoup(res.content, 'html.parser')\n",
    "\n",
    "tree = get_soup('https://books.toscrape.com/catalogue/category/books_1/')"
   ]
  },
  {
   "cell_type": "markdown",
   "metadata": {},
   "source": [
    "Достаем часть информации (название, ссылку и рейтинг)"
   ]
  },
  {
   "cell_type": "code",
   "execution_count": 81,
   "metadata": {},
   "outputs": [
    {
     "data": {
      "text/plain": [
       "'Three'"
      ]
     },
     "execution_count": 81,
     "metadata": {},
     "output_type": "execute_result"
    }
   ],
   "source": [
    "# рейтинг\n",
    "books = tree.find_all('li',  {'class': 'col-xs-6 col-sm-4 col-md-3 col-lg-3'})\n",
    "books[0].p.get('class')[1]"
   ]
  },
  {
   "cell_type": "code",
   "execution_count": 85,
   "metadata": {},
   "outputs": [],
   "source": [
    "def get_main_hrefs(tree: BeautifulSoup) -> tp.List[tp.Dict]:\n",
    "    books = tree.find_all('li',  {'class': 'col-xs-6 col-sm-4 col-md-3 col-lg-3'})\n",
    "    return [{\n",
    "        'link': item.h3.a.get('href'),\n",
    "        'name': item.h3.a.get('title'),\n",
    "        'rating': item.p.get('class')[1]\n",
    "    } for item in books]"
   ]
  },
  {
   "cell_type": "markdown",
   "metadata": {},
   "source": [
    "Применяем эти функции, чтобы пройтись цикломи по первым 200 книгам (первые 10 страниц) и вытащить информацию"
   ]
  },
  {
   "cell_type": "code",
   "execution_count": 86,
   "metadata": {},
   "outputs": [
    {
     "data": {
      "application/vnd.jupyter.widget-view+json": {
       "model_id": "5c28aaf1205b4a23941a4c9520629958",
       "version_major": 2,
       "version_minor": 0
      },
      "text/plain": [
       "  0%|          | 0/10 [00:00<?, ?it/s]"
      ]
     },
     "metadata": {},
     "output_type": "display_data"
    }
   ],
   "source": [
    "MAIN_URL = 'https://books.toscrape.com/catalogue/category/books_1/'\n",
    "data = [ ]\n",
    "\n",
    "for p in tqdm(range(1, 11)):\n",
    "    url = MAIN_URL + f'page-{p}.html'\n",
    "    tree = get_soup(url)\n",
    "    books = get_main_hrefs(tree)\n",
    "    data.extend(books)\n",
    "    time.sleep(0.02)"
   ]
  },
  {
   "cell_type": "code",
   "execution_count": 88,
   "metadata": {
    "deletable": false,
    "nbgrader": {
     "cell_type": "code",
     "checksum": "defea54e7bc7d4545e27bbd019f41ae2",
     "grade": false,
     "grade_id": "cell-a3b3b4c91addb471",
     "locked": false,
     "schema_version": 3,
     "solution": true,
     "task": false
    }
   },
   "outputs": [
    {
     "data": {
      "text/html": [
       "<div>\n",
       "<style scoped>\n",
       "    .dataframe tbody tr th:only-of-type {\n",
       "        vertical-align: middle;\n",
       "    }\n",
       "\n",
       "    .dataframe tbody tr th {\n",
       "        vertical-align: top;\n",
       "    }\n",
       "\n",
       "    .dataframe thead th {\n",
       "        text-align: right;\n",
       "    }\n",
       "</style>\n",
       "<table border=\"1\" class=\"dataframe\">\n",
       "  <thead>\n",
       "    <tr style=\"text-align: right;\">\n",
       "      <th></th>\n",
       "      <th>link</th>\n",
       "      <th>name</th>\n",
       "      <th>rating</th>\n",
       "    </tr>\n",
       "  </thead>\n",
       "  <tbody>\n",
       "    <tr>\n",
       "      <th>0</th>\n",
       "      <td>../../a-light-in-the-attic_1000/index.html</td>\n",
       "      <td>A Light in the Attic</td>\n",
       "      <td>Three</td>\n",
       "    </tr>\n",
       "    <tr>\n",
       "      <th>1</th>\n",
       "      <td>../../tipping-the-velvet_999/index.html</td>\n",
       "      <td>Tipping the Velvet</td>\n",
       "      <td>One</td>\n",
       "    </tr>\n",
       "    <tr>\n",
       "      <th>2</th>\n",
       "      <td>../../soumission_998/index.html</td>\n",
       "      <td>Soumission</td>\n",
       "      <td>One</td>\n",
       "    </tr>\n",
       "    <tr>\n",
       "      <th>3</th>\n",
       "      <td>../../sharp-objects_997/index.html</td>\n",
       "      <td>Sharp Objects</td>\n",
       "      <td>Four</td>\n",
       "    </tr>\n",
       "    <tr>\n",
       "      <th>4</th>\n",
       "      <td>../../sapiens-a-brief-history-of-humankind_996...</td>\n",
       "      <td>Sapiens: A Brief History of Humankind</td>\n",
       "      <td>Five</td>\n",
       "    </tr>\n",
       "    <tr>\n",
       "      <th>...</th>\n",
       "      <td>...</td>\n",
       "      <td>...</td>\n",
       "      <td>...</td>\n",
       "    </tr>\n",
       "    <tr>\n",
       "      <th>195</th>\n",
       "      <td>../../eureka-trivia-60_805/index.html</td>\n",
       "      <td>Eureka Trivia 6.0</td>\n",
       "      <td>Four</td>\n",
       "    </tr>\n",
       "    <tr>\n",
       "      <th>196</th>\n",
       "      <td>../../drive-the-surprising-truth-about-what-mo...</td>\n",
       "      <td>Drive: The Surprising Truth About What Motivat...</td>\n",
       "      <td>Four</td>\n",
       "    </tr>\n",
       "    <tr>\n",
       "      <th>197</th>\n",
       "      <td>../../done-rubbed-out-reightman-bailey-1_803/i...</td>\n",
       "      <td>Done Rubbed Out (Reightman &amp; Bailey #1)</td>\n",
       "      <td>Five</td>\n",
       "    </tr>\n",
       "    <tr>\n",
       "      <th>198</th>\n",
       "      <td>../../doing-it-over-most-likely-to-1_802/index...</td>\n",
       "      <td>Doing It Over (Most Likely To #1)</td>\n",
       "      <td>Three</td>\n",
       "    </tr>\n",
       "    <tr>\n",
       "      <th>199</th>\n",
       "      <td>../../deliciously-ella-every-day-quick-and-eas...</td>\n",
       "      <td>Deliciously Ella Every Day: Quick and Easy Rec...</td>\n",
       "      <td>Three</td>\n",
       "    </tr>\n",
       "  </tbody>\n",
       "</table>\n",
       "<p>200 rows × 3 columns</p>\n",
       "</div>"
      ],
      "text/plain": [
       "                                                  link  \\\n",
       "0           ../../a-light-in-the-attic_1000/index.html   \n",
       "1              ../../tipping-the-velvet_999/index.html   \n",
       "2                      ../../soumission_998/index.html   \n",
       "3                   ../../sharp-objects_997/index.html   \n",
       "4    ../../sapiens-a-brief-history-of-humankind_996...   \n",
       "..                                                 ...   \n",
       "195              ../../eureka-trivia-60_805/index.html   \n",
       "196  ../../drive-the-surprising-truth-about-what-mo...   \n",
       "197  ../../done-rubbed-out-reightman-bailey-1_803/i...   \n",
       "198  ../../doing-it-over-most-likely-to-1_802/index...   \n",
       "199  ../../deliciously-ella-every-day-quick-and-eas...   \n",
       "\n",
       "                                                  name rating  \n",
       "0                                 A Light in the Attic  Three  \n",
       "1                                   Tipping the Velvet    One  \n",
       "2                                           Soumission    One  \n",
       "3                                        Sharp Objects   Four  \n",
       "4                Sapiens: A Brief History of Humankind   Five  \n",
       "..                                                 ...    ...  \n",
       "195                                  Eureka Trivia 6.0   Four  \n",
       "196  Drive: The Surprising Truth About What Motivat...   Four  \n",
       "197            Done Rubbed Out (Reightman & Bailey #1)   Five  \n",
       "198                  Doing It Over (Most Likely To #1)  Three  \n",
       "199  Deliciously Ella Every Day: Quick and Easy Rec...  Three  \n",
       "\n",
       "[200 rows x 3 columns]"
      ]
     },
     "execution_count": 88,
     "metadata": {},
     "output_type": "execute_result"
    }
   ],
   "source": [
    "df = pd.DataFrame(data)\n",
    "df"
   ]
  },
  {
   "cell_type": "markdown",
   "metadata": {},
   "source": [
    "Пройдем циклом по всем сыслкам из списка `book_links` и соберем данные о книгах в вектор `book_info`. "
   ]
  },
  {
   "cell_type": "code",
   "execution_count": 165,
   "metadata": {},
   "outputs": [
    {
     "data": {
      "text/plain": [
       "<p>\"Erotic and absorbing...Written with starling power.\"--\"The New York Times Book Review \" Nan King, an oyster girl, is captivated by the music hall phenomenon Kitty Butler, a male impersonator extraordinaire treading the boards in Canterbury. Through a friend at the box office, Nan manages to visit all her shows and finally meet her heroine. Soon after, she becomes Kitty's \"Erotic and absorbing...Written with starling power.\"--\"The New York Times Book Review \" Nan King, an oyster girl, is captivated by the music hall phenomenon Kitty Butler, a male impersonator extraordinaire treading the boards in Canterbury. Through a friend at the box office, Nan manages to visit all her shows and finally meet her heroine. Soon after, she becomes Kitty's dresser and the two head for the bright lights of Leicester Square where they begin a glittering career as music-hall stars in an all-singing and dancing double act. At the same time, behind closed doors, they admit their attraction to each other and their affair begins. ...more</p>"
      ]
     },
     "execution_count": 165,
     "metadata": {},
     "output_type": "execute_result"
    }
   ],
   "source": [
    "href = MAIN_URL + data[1]['link'] # из него достается ссылка\n",
    "tree = get_soup(href) # по ней что-то скачивается\n",
    "description = tree.find('p', {'class': ''})\n",
    "description"
   ]
  },
  {
   "cell_type": "code",
   "execution_count": 166,
   "metadata": {
    "deletable": false,
    "nbgrader": {
     "cell_type": "code",
     "checksum": "418e8b0cadc167a34bd0937d72934bb4",
     "grade": false,
     "grade_id": "cell-240b7f956c433b45",
     "locked": false,
     "schema_version": 3,
     "solution": true,
     "task": false
    }
   },
   "outputs": [],
   "source": [
    "book_info = []\n",
    "\n",
    "def get_book_info(infa): # на вход идет словарь\n",
    "    href = MAIN_URL + infa['link'] # из него достается ссылка\n",
    "    tree = get_soup(href) # по ней скачивается информация\n",
    "    table = tree.find('table', {'class': 'table table-striped'})\n",
    "    table = pd.read_html(str(table))[0].set_index(0).to_dict()[1] \n",
    "    price = tree.find('p', {'class': 'price_color'}).text\n",
    "    description = tree.find('p', {'class': ''})\n",
    "    infa.update(table) # словарь, который был на входе, обновляется, на выход выскакивает\n",
    "    infa.update({'price': price})\n",
    "    infa.update({'description': description})\n",
    "    return infa"
   ]
  },
  {
   "cell_type": "code",
   "execution_count": 167,
   "metadata": {},
   "outputs": [],
   "source": [
    "updated_data = [ ]\n",
    "\n",
    "for i in range(0, 200):\n",
    "    try:\n",
    "        updated_data.append(get_book_info(data[i]))\n",
    "    except:\n",
    "        print('Не получилось', item['href'])"
   ]
  },
  {
   "cell_type": "code",
   "execution_count": 168,
   "metadata": {},
   "outputs": [
    {
     "data": {
      "text/html": [
       "<div>\n",
       "<style scoped>\n",
       "    .dataframe tbody tr th:only-of-type {\n",
       "        vertical-align: middle;\n",
       "    }\n",
       "\n",
       "    .dataframe tbody tr th {\n",
       "        vertical-align: top;\n",
       "    }\n",
       "\n",
       "    .dataframe thead th {\n",
       "        text-align: right;\n",
       "    }\n",
       "</style>\n",
       "<table border=\"1\" class=\"dataframe\">\n",
       "  <thead>\n",
       "    <tr style=\"text-align: right;\">\n",
       "      <th></th>\n",
       "      <th>link</th>\n",
       "      <th>name</th>\n",
       "      <th>rating</th>\n",
       "      <th>UPC</th>\n",
       "      <th>Product Type</th>\n",
       "      <th>Price (excl. tax)</th>\n",
       "      <th>Price (incl. tax)</th>\n",
       "      <th>Tax</th>\n",
       "      <th>Availability</th>\n",
       "      <th>Number of reviews</th>\n",
       "      <th>price</th>\n",
       "      <th>description</th>\n",
       "    </tr>\n",
       "  </thead>\n",
       "  <tbody>\n",
       "    <tr>\n",
       "      <th>0</th>\n",
       "      <td>../../a-light-in-the-attic_1000/index.html</td>\n",
       "      <td>A Light in the Attic</td>\n",
       "      <td>Three</td>\n",
       "      <td>a897fe39b1053632</td>\n",
       "      <td>Books</td>\n",
       "      <td>£51.77</td>\n",
       "      <td>£51.77</td>\n",
       "      <td>£0.00</td>\n",
       "      <td>In stock (22 available)</td>\n",
       "      <td>0</td>\n",
       "      <td>£51.77</td>\n",
       "      <td>[It's hard to imagine a world without A Light ...</td>\n",
       "    </tr>\n",
       "    <tr>\n",
       "      <th>1</th>\n",
       "      <td>../../tipping-the-velvet_999/index.html</td>\n",
       "      <td>Tipping the Velvet</td>\n",
       "      <td>One</td>\n",
       "      <td>90fa61229261140a</td>\n",
       "      <td>Books</td>\n",
       "      <td>£53.74</td>\n",
       "      <td>£53.74</td>\n",
       "      <td>£0.00</td>\n",
       "      <td>In stock (20 available)</td>\n",
       "      <td>0</td>\n",
       "      <td>£53.74</td>\n",
       "      <td>[\"Erotic and absorbing...Written with starling...</td>\n",
       "    </tr>\n",
       "    <tr>\n",
       "      <th>2</th>\n",
       "      <td>../../soumission_998/index.html</td>\n",
       "      <td>Soumission</td>\n",
       "      <td>One</td>\n",
       "      <td>6957f44c3847a760</td>\n",
       "      <td>Books</td>\n",
       "      <td>£50.10</td>\n",
       "      <td>£50.10</td>\n",
       "      <td>£0.00</td>\n",
       "      <td>In stock (20 available)</td>\n",
       "      <td>0</td>\n",
       "      <td>£50.10</td>\n",
       "      <td>[Dans une France assez proche de la nôtre, un ...</td>\n",
       "    </tr>\n",
       "    <tr>\n",
       "      <th>3</th>\n",
       "      <td>../../sharp-objects_997/index.html</td>\n",
       "      <td>Sharp Objects</td>\n",
       "      <td>Four</td>\n",
       "      <td>e00eb4fd7b871a48</td>\n",
       "      <td>Books</td>\n",
       "      <td>£47.82</td>\n",
       "      <td>£47.82</td>\n",
       "      <td>£0.00</td>\n",
       "      <td>In stock (20 available)</td>\n",
       "      <td>0</td>\n",
       "      <td>£47.82</td>\n",
       "      <td>[WICKED above her hipbone, GIRL across her hea...</td>\n",
       "    </tr>\n",
       "    <tr>\n",
       "      <th>4</th>\n",
       "      <td>../../sapiens-a-brief-history-of-humankind_996...</td>\n",
       "      <td>Sapiens: A Brief History of Humankind</td>\n",
       "      <td>Five</td>\n",
       "      <td>4165285e1663650f</td>\n",
       "      <td>Books</td>\n",
       "      <td>£54.23</td>\n",
       "      <td>£54.23</td>\n",
       "      <td>£0.00</td>\n",
       "      <td>In stock (20 available)</td>\n",
       "      <td>0</td>\n",
       "      <td>£54.23</td>\n",
       "      <td>[From a renowned historian comes a groundbreak...</td>\n",
       "    </tr>\n",
       "  </tbody>\n",
       "</table>\n",
       "</div>"
      ],
      "text/plain": [
       "                                                link  \\\n",
       "0         ../../a-light-in-the-attic_1000/index.html   \n",
       "1            ../../tipping-the-velvet_999/index.html   \n",
       "2                    ../../soumission_998/index.html   \n",
       "3                 ../../sharp-objects_997/index.html   \n",
       "4  ../../sapiens-a-brief-history-of-humankind_996...   \n",
       "\n",
       "                                    name rating               UPC  \\\n",
       "0                   A Light in the Attic  Three  a897fe39b1053632   \n",
       "1                     Tipping the Velvet    One  90fa61229261140a   \n",
       "2                             Soumission    One  6957f44c3847a760   \n",
       "3                          Sharp Objects   Four  e00eb4fd7b871a48   \n",
       "4  Sapiens: A Brief History of Humankind   Five  4165285e1663650f   \n",
       "\n",
       "  Product Type Price (excl. tax) Price (incl. tax)    Tax  \\\n",
       "0        Books            £51.77            £51.77  £0.00   \n",
       "1        Books            £53.74            £53.74  £0.00   \n",
       "2        Books            £50.10            £50.10  £0.00   \n",
       "3        Books            £47.82            £47.82  £0.00   \n",
       "4        Books            £54.23            £54.23  £0.00   \n",
       "\n",
       "              Availability Number of reviews   price  \\\n",
       "0  In stock (22 available)                 0  £51.77   \n",
       "1  In stock (20 available)                 0  £53.74   \n",
       "2  In stock (20 available)                 0  £50.10   \n",
       "3  In stock (20 available)                 0  £47.82   \n",
       "4  In stock (20 available)                 0  £54.23   \n",
       "\n",
       "                                         description  \n",
       "0  [It's hard to imagine a world without A Light ...  \n",
       "1  [\"Erotic and absorbing...Written with starling...  \n",
       "2  [Dans une France assez proche de la nôtre, un ...  \n",
       "3  [WICKED above her hipbone, GIRL across her hea...  \n",
       "4  [From a renowned historian comes a groundbreak...  "
      ]
     },
     "execution_count": 168,
     "metadata": {},
     "output_type": "execute_result"
    }
   ],
   "source": [
    "dff = pd.DataFrame(updated_data)\n",
    "dff.head()"
   ]
  },
  {
   "cell_type": "markdown",
   "metadata": {},
   "source": [
    "Превратим вектор из информации в полноценную таблицу с данными. "
   ]
  },
  {
   "cell_type": "code",
   "execution_count": 169,
   "metadata": {},
   "outputs": [
    {
     "name": "stdout",
     "output_type": "stream",
     "text": [
      "(200, 12)\n"
     ]
    },
    {
     "data": {
      "text/html": [
       "<div>\n",
       "<style scoped>\n",
       "    .dataframe tbody tr th:only-of-type {\n",
       "        vertical-align: middle;\n",
       "    }\n",
       "\n",
       "    .dataframe tbody tr th {\n",
       "        vertical-align: top;\n",
       "    }\n",
       "\n",
       "    .dataframe thead th {\n",
       "        text-align: right;\n",
       "    }\n",
       "</style>\n",
       "<table border=\"1\" class=\"dataframe\">\n",
       "  <thead>\n",
       "    <tr style=\"text-align: right;\">\n",
       "      <th></th>\n",
       "      <th>link</th>\n",
       "      <th>name</th>\n",
       "      <th>rating</th>\n",
       "      <th>UPC</th>\n",
       "      <th>Product Type</th>\n",
       "      <th>Price (excl. tax)</th>\n",
       "      <th>Price (incl. tax)</th>\n",
       "      <th>Tax</th>\n",
       "      <th>Availability</th>\n",
       "      <th>Number of reviews</th>\n",
       "      <th>price</th>\n",
       "      <th>description</th>\n",
       "    </tr>\n",
       "  </thead>\n",
       "  <tbody>\n",
       "    <tr>\n",
       "      <th>0</th>\n",
       "      <td>../../a-light-in-the-attic_1000/index.html</td>\n",
       "      <td>A Light in the Attic</td>\n",
       "      <td>Three</td>\n",
       "      <td>a897fe39b1053632</td>\n",
       "      <td>Books</td>\n",
       "      <td>£51.77</td>\n",
       "      <td>£51.77</td>\n",
       "      <td>£0.00</td>\n",
       "      <td>In stock (22 available)</td>\n",
       "      <td>0</td>\n",
       "      <td>£51.77</td>\n",
       "      <td>[It's hard to imagine a world without A Light ...</td>\n",
       "    </tr>\n",
       "    <tr>\n",
       "      <th>1</th>\n",
       "      <td>../../tipping-the-velvet_999/index.html</td>\n",
       "      <td>Tipping the Velvet</td>\n",
       "      <td>One</td>\n",
       "      <td>90fa61229261140a</td>\n",
       "      <td>Books</td>\n",
       "      <td>£53.74</td>\n",
       "      <td>£53.74</td>\n",
       "      <td>£0.00</td>\n",
       "      <td>In stock (20 available)</td>\n",
       "      <td>0</td>\n",
       "      <td>£53.74</td>\n",
       "      <td>[\"Erotic and absorbing...Written with starling...</td>\n",
       "    </tr>\n",
       "    <tr>\n",
       "      <th>2</th>\n",
       "      <td>../../soumission_998/index.html</td>\n",
       "      <td>Soumission</td>\n",
       "      <td>One</td>\n",
       "      <td>6957f44c3847a760</td>\n",
       "      <td>Books</td>\n",
       "      <td>£50.10</td>\n",
       "      <td>£50.10</td>\n",
       "      <td>£0.00</td>\n",
       "      <td>In stock (20 available)</td>\n",
       "      <td>0</td>\n",
       "      <td>£50.10</td>\n",
       "      <td>[Dans une France assez proche de la nôtre, un ...</td>\n",
       "    </tr>\n",
       "    <tr>\n",
       "      <th>3</th>\n",
       "      <td>../../sharp-objects_997/index.html</td>\n",
       "      <td>Sharp Objects</td>\n",
       "      <td>Four</td>\n",
       "      <td>e00eb4fd7b871a48</td>\n",
       "      <td>Books</td>\n",
       "      <td>£47.82</td>\n",
       "      <td>£47.82</td>\n",
       "      <td>£0.00</td>\n",
       "      <td>In stock (20 available)</td>\n",
       "      <td>0</td>\n",
       "      <td>£47.82</td>\n",
       "      <td>[WICKED above her hipbone, GIRL across her hea...</td>\n",
       "    </tr>\n",
       "    <tr>\n",
       "      <th>4</th>\n",
       "      <td>../../sapiens-a-brief-history-of-humankind_996...</td>\n",
       "      <td>Sapiens: A Brief History of Humankind</td>\n",
       "      <td>Five</td>\n",
       "      <td>4165285e1663650f</td>\n",
       "      <td>Books</td>\n",
       "      <td>£54.23</td>\n",
       "      <td>£54.23</td>\n",
       "      <td>£0.00</td>\n",
       "      <td>In stock (20 available)</td>\n",
       "      <td>0</td>\n",
       "      <td>£54.23</td>\n",
       "      <td>[From a renowned historian comes a groundbreak...</td>\n",
       "    </tr>\n",
       "  </tbody>\n",
       "</table>\n",
       "</div>"
      ],
      "text/plain": [
       "                                                link  \\\n",
       "0         ../../a-light-in-the-attic_1000/index.html   \n",
       "1            ../../tipping-the-velvet_999/index.html   \n",
       "2                    ../../soumission_998/index.html   \n",
       "3                 ../../sharp-objects_997/index.html   \n",
       "4  ../../sapiens-a-brief-history-of-humankind_996...   \n",
       "\n",
       "                                    name rating               UPC  \\\n",
       "0                   A Light in the Attic  Three  a897fe39b1053632   \n",
       "1                     Tipping the Velvet    One  90fa61229261140a   \n",
       "2                             Soumission    One  6957f44c3847a760   \n",
       "3                          Sharp Objects   Four  e00eb4fd7b871a48   \n",
       "4  Sapiens: A Brief History of Humankind   Five  4165285e1663650f   \n",
       "\n",
       "  Product Type Price (excl. tax) Price (incl. tax)    Tax  \\\n",
       "0        Books            £51.77            £51.77  £0.00   \n",
       "1        Books            £53.74            £53.74  £0.00   \n",
       "2        Books            £50.10            £50.10  £0.00   \n",
       "3        Books            £47.82            £47.82  £0.00   \n",
       "4        Books            £54.23            £54.23  £0.00   \n",
       "\n",
       "              Availability Number of reviews   price  \\\n",
       "0  In stock (22 available)                 0  £51.77   \n",
       "1  In stock (20 available)                 0  £53.74   \n",
       "2  In stock (20 available)                 0  £50.10   \n",
       "3  In stock (20 available)                 0  £47.82   \n",
       "4  In stock (20 available)                 0  £54.23   \n",
       "\n",
       "                                         description  \n",
       "0  [It's hard to imagine a world without A Light ...  \n",
       "1  [\"Erotic and absorbing...Written with starling...  \n",
       "2  [Dans une France assez proche de la nôtre, un ...  \n",
       "3  [WICKED above her hipbone, GIRL across her hea...  \n",
       "4  [From a renowned historian comes a groundbreak...  "
      ]
     },
     "execution_count": 169,
     "metadata": {},
     "output_type": "execute_result"
    }
   ],
   "source": [
    "import copy\n",
    "book_info_df = copy.deepcopy(dff)\n",
    "print(book_info_df.shape)\n",
    "book_info_df.head() "
   ]
  },
  {
   "cell_type": "markdown",
   "metadata": {},
   "source": [
    "# Ответы на некоторые вопросы по собранным данным"
   ]
  },
  {
   "cell_type": "markdown",
   "metadata": {},
   "source": [
    "- У скольких книг отсутствует описание?"
   ]
  },
  {
   "cell_type": "code",
   "execution_count": 193,
   "metadata": {},
   "outputs": [
    {
     "data": {
      "text/plain": [
       "1"
      ]
     },
     "execution_count": 193,
     "metadata": {},
     "output_type": "execute_result"
    }
   ],
   "source": [
    "book_info_df['description'].isnull().sum()"
   ]
  },
  {
   "cell_type": "code",
   "execution_count": 192,
   "metadata": {},
   "outputs": [
    {
     "data": {
      "text/html": [
       "<div>\n",
       "<style scoped>\n",
       "    .dataframe tbody tr th:only-of-type {\n",
       "        vertical-align: middle;\n",
       "    }\n",
       "\n",
       "    .dataframe tbody tr th {\n",
       "        vertical-align: top;\n",
       "    }\n",
       "\n",
       "    .dataframe thead th {\n",
       "        text-align: right;\n",
       "    }\n",
       "</style>\n",
       "<table border=\"1\" class=\"dataframe\">\n",
       "  <thead>\n",
       "    <tr style=\"text-align: right;\">\n",
       "      <th></th>\n",
       "      <th>link</th>\n",
       "      <th>name</th>\n",
       "      <th>rating</th>\n",
       "      <th>UPC</th>\n",
       "      <th>Product Type</th>\n",
       "      <th>Price (excl. tax)</th>\n",
       "      <th>Price (incl. tax)</th>\n",
       "      <th>Tax</th>\n",
       "      <th>Availability</th>\n",
       "      <th>Number of reviews</th>\n",
       "      <th>price</th>\n",
       "      <th>description</th>\n",
       "    </tr>\n",
       "  </thead>\n",
       "  <tbody>\n",
       "    <tr>\n",
       "      <th>160</th>\n",
       "      <td>../../the-bridge-to-consciousness-im-writing-t...</td>\n",
       "      <td>The Bridge to Consciousness: I'm Writing the B...</td>\n",
       "      <td>Three</td>\n",
       "      <td>efc3768127714ec3</td>\n",
       "      <td>Books</td>\n",
       "      <td>£32.00</td>\n",
       "      <td>£32.00</td>\n",
       "      <td>£0.00</td>\n",
       "      <td>In stock (15 available)</td>\n",
       "      <td>0</td>\n",
       "      <td>£32.00</td>\n",
       "      <td>None</td>\n",
       "    </tr>\n",
       "  </tbody>\n",
       "</table>\n",
       "</div>"
      ],
      "text/plain": [
       "                                                  link  \\\n",
       "160  ../../the-bridge-to-consciousness-im-writing-t...   \n",
       "\n",
       "                                                  name rating  \\\n",
       "160  The Bridge to Consciousness: I'm Writing the B...  Three   \n",
       "\n",
       "                  UPC Product Type Price (excl. tax) Price (incl. tax)    Tax  \\\n",
       "160  efc3768127714ec3        Books            £32.00            £32.00  £0.00   \n",
       "\n",
       "                Availability Number of reviews   price description  \n",
       "160  In stock (15 available)                 0  £32.00        None  "
      ]
     },
     "execution_count": 192,
     "metadata": {},
     "output_type": "execute_result"
    }
   ],
   "source": [
    "book_info_df[book_info_df['description'].isnull()]"
   ]
  },
  {
   "cell_type": "code",
   "execution_count": 194,
   "metadata": {
    "deletable": false,
    "nbgrader": {
     "cell_type": "code",
     "checksum": "0a54c60fbbab43a250f22bba8ae6f62d",
     "grade": false,
     "grade_id": "cell-818d91b73f034e1a",
     "locked": false,
     "schema_version": 3,
     "solution": true,
     "task": false
    }
   },
   "outputs": [
    {
     "data": {
      "text/plain": [
       "1"
      ]
     },
     "execution_count": 194,
     "metadata": {},
     "output_type": "execute_result"
    }
   ],
   "source": [
    "ans1 = book_info_df['description'].isnull().sum() \n",
    "ans1\n"
   ]
  },
  {
   "cell_type": "markdown",
   "metadata": {},
   "source": [
    "- Сколько раз в данных встречается налог, больший нуля? "
   ]
  },
  {
   "cell_type": "code",
   "execution_count": 132,
   "metadata": {
    "deletable": false,
    "nbgrader": {
     "cell_type": "code",
     "checksum": "881cb4d0c1333101e6756e8d38221100",
     "grade": false,
     "grade_id": "cell-be342205fa946a79",
     "locked": false,
     "schema_version": 3,
     "solution": true,
     "task": false
    }
   },
   "outputs": [
    {
     "data": {
      "text/plain": [
       "0"
      ]
     },
     "execution_count": 132,
     "metadata": {},
     "output_type": "execute_result"
    }
   ],
   "source": [
    "ans2 = (book_info_df['Tax'] > 0).sum()\n",
    "ans2"
   ]
  },
  {
   "cell_type": "markdown",
   "metadata": {},
   "source": [
    "- Сколько раз рейтинг книги составлял пять звезд? "
   ]
  },
  {
   "cell_type": "code",
   "execution_count": 133,
   "metadata": {
    "deletable": false,
    "nbgrader": {
     "cell_type": "code",
     "checksum": "9bed9ee4d147130e84c82fddec2f3764",
     "grade": false,
     "grade_id": "cell-a904ff9c737f3bae",
     "locked": false,
     "schema_version": 3,
     "solution": true,
     "task": false
    }
   },
   "outputs": [
    {
     "data": {
      "text/plain": [
       "37"
      ]
     },
     "execution_count": 133,
     "metadata": {},
     "output_type": "execute_result"
    }
   ],
   "source": [
    "ans3 = (book_info_df['rating'] == 'Five').sum()\n",
    "ans3"
   ]
  },
  {
   "cell_type": "markdown",
   "metadata": {},
   "source": [
    "- Какова средняя цена книг (без учета налога)? "
   ]
  },
  {
   "cell_type": "code",
   "execution_count": 134,
   "metadata": {
    "deletable": false,
    "nbgrader": {
     "cell_type": "code",
     "checksum": "2ba621a61f0c0e5e50a4c01253676973",
     "grade": false,
     "grade_id": "cell-60c854eb83c66df8",
     "locked": false,
     "schema_version": 3,
     "solution": true,
     "task": false
    }
   },
   "outputs": [
    {
     "data": {
      "text/plain": [
       "34.79625"
      ]
     },
     "execution_count": 134,
     "metadata": {},
     "output_type": "execute_result"
    }
   ],
   "source": [
    "book_info_df['Price (excl. tax)'] = book_info_df['Price (excl. tax)'].apply(lambda w: float(w[1:]))\n",
    "ans4 = book_info_df['Price (excl. tax)'].mean() \n",
    "ans4"
   ]
  },
  {
   "cell_type": "markdown",
   "metadata": {},
   "source": [
    " "
   ]
  }
 ],
 "metadata": {
  "kernelspec": {
   "display_name": "Python 3 (ipykernel)",
   "language": "python",
   "name": "python3"
  },
  "language_info": {
   "codemirror_mode": {
    "name": "ipython",
    "version": 3
   },
   "file_extension": ".py",
   "mimetype": "text/x-python",
   "name": "python",
   "nbconvert_exporter": "python",
   "pygments_lexer": "ipython3",
   "version": "3.9.7"
  },
  "varInspector": {
   "cols": {
    "lenName": 16,
    "lenType": 16,
    "lenVar": 40
   },
   "kernels_config": {
    "python": {
     "delete_cmd_postfix": "",
     "delete_cmd_prefix": "del ",
     "library": "var_list.py",
     "varRefreshCmd": "print(var_dic_list())"
    },
    "r": {
     "delete_cmd_postfix": ") ",
     "delete_cmd_prefix": "rm(",
     "library": "var_list.r",
     "varRefreshCmd": "cat(var_dic_list()) "
    }
   },
   "types_to_exclude": [
    "module",
    "function",
    "builtin_function_or_method",
    "instance",
    "_Feature"
   ],
   "window_display": false
  }
 },
 "nbformat": 4,
 "nbformat_minor": 2
}
