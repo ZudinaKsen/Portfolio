{
 "cells": [
  {
   "cell_type": "markdown",
   "metadata": {},
   "source": [
    "#  Простые симуляции\n",
    "\n",
    "Решение задач с помощью симуляций: оценка вероятностей, оценка условных вероятностей, квантильное преобразование, сходимость по вероятности"
   ]
  },
  {
   "cell_type": "code",
   "execution_count": 1,
   "metadata": {},
   "outputs": [],
   "source": [
    "import warnings\n",
    "warnings.filterwarnings('ignore')\n",
    "\n",
    "import numpy as np\n",
    "import scipy.stats as sts\n",
    "import matplotlib.pyplot as plt"
   ]
  },
  {
   "cell_type": "markdown",
   "metadata": {},
   "source": [
    "## Упражнение 1 (распределение Пуассона)\n",
    "\n",
    "Случайная величина $X$ имеет распределение Пуассона с $\\lambda = 2$,  $X \\sim Pois(2)$. С помощью $10^6$ симуляций оцените: \n",
    "\n",
    "* $P(X > 6)$\n",
    "* $P(X > 6 \\mid X > 5)$\n",
    "* $P(X > 5, X < 7)$\n",
    "* $E(X^3)$ \n",
    "* $E(X \\mid X > 5)$\n",
    "\n",
    "Вбейте получившиеся ответы в переменные `ans1`, `ans2`, $\\ldots$, `ans5`. "
   ]
  },
  {
   "cell_type": "code",
   "execution_count": 2,
   "metadata": {
    "nbgrader": {
     "grade": false,
     "grade_id": "cell-0cdc105173d26dcd",
     "locked": false,
     "schema_version": 3,
     "solution": true,
     "task": false
    }
   },
   "outputs": [],
   "source": [
    "poiss_rv = sts.poisson(2)\n",
    "x = poiss_rv.rvs(size=10**6)\n",
    "\n",
    "ans1 = np.mean(x > 6)\n",
    "ans2 = np.mean(x[x > 5] > 6)\n",
    "ans3 = np.mean((x > 5)&(x < 7))\n",
    "ans4 = np.mean(x**3)\n",
    "ans5 = np.mean(x[x > 5])"
   ]
  },
  {
   "cell_type": "markdown",
   "metadata": {},
   "source": [
    "## Упражнение 2 (нейросети)\n",
    "\n",
    "Юра завёл себе две нейронные сетки и два сервера для их обучения. Две нейросети обучаются независимо на двух серверах. Время их обучения $T_1$ и $T_2$ равномерно распределено на отрезке $[1;3]$ (обучение измеряется в часах). В процессе обучения сервер может упасть. Момент падения сервера $T$ распределён экспоненциально с параметром $\\lambda = 0.3$. Он не зависит от времени обучения нейросеток. \n",
    "\n",
    "Известно, что одна из нейросетей успела обучиться, а вторая не успела. Какова вероятность того, что $T \\le 1.5$? Ответ вбейте в переменную `ans6`. \n",
    "\n",
    "**Hint:** при решении задачи помните о том, что у вас две нейросетки!"
   ]
  },
  {
   "cell_type": "code",
   "execution_count": 3,
   "metadata": {
    "nbgrader": {
     "grade": false,
     "grade_id": "cell-26e7ed9e468a34b2",
     "locked": false,
     "schema_version": 3,
     "solution": true,
     "task": false
    }
   },
   "outputs": [],
   "source": [
    "T1 = sts.uniform(1,2).rvs(size=10**7) # время обучения первой нейросетки\n",
    "T2 = sts.uniform(1,2).rvs(size=10**7) # время обучения второй нейросетки\n",
    "T = sts.expon(scale=1/0.3).rvs(size=10**7) # момент падения сервера\n",
    "\n",
    "usl1 = (T1 >= T)&(T2 < T) # первая не успела, вторая успела до падения\n",
    "usl2 = (T1 < T)&(T2 >= T) # первая успела, вторая не успела до падения"
   ]
  },
  {
   "cell_type": "code",
   "execution_count": 4,
   "metadata": {},
   "outputs": [
    {
     "data": {
      "text/plain": [
       "1106005"
      ]
     },
     "execution_count": 4,
     "metadata": {},
     "output_type": "execute_result"
    }
   ],
   "source": [
    "len(T[usl1 | usl2]) # проверка достаточно ли событий для оценки"
   ]
  },
  {
   "cell_type": "code",
   "execution_count": 5,
   "metadata": {},
   "outputs": [
    {
     "data": {
      "text/plain": [
       "0.18991324632347956"
      ]
     },
     "execution_count": 5,
     "metadata": {},
     "output_type": "execute_result"
    }
   ],
   "source": [
    "ans6 = np.mean(T[usl1 | usl2] <= 1.5)# Находим нужную вероятность \n",
    "ans6"
   ]
  },
  {
   "cell_type": "markdown",
   "metadata": {},
   "source": [
    "## Упражнение 3 (квантильное преобразование)\n",
    "\n",
    "Случайная величина $X$ описывается функцией распределения: \n",
    "\n",
    "$$\n",
    "F(x) = \\left( \\frac{\\ln x}{\\ln \\theta} \\right)^{\\alpha},  \\quad x \\in [1; \\theta]\n",
    "$$\n",
    "\n",
    "Сгенерируйте из такого распределения выборку объёма $10^6$ и оцените математическое ожидание данной случайной величины. Запишите его в переменную `ans7`. В качестве параметров возьмите $\\alpha=2, \\theta = 10$."
   ]
  },
  {
   "cell_type": "code",
   "execution_count": 6,
   "metadata": {
    "nbgrader": {
     "grade": false,
     "grade_id": "cell-d21b5450e8815816",
     "locked": false,
     "schema_version": 3,
     "solution": true,
     "task": false
    }
   },
   "outputs": [
    {
     "data": {
      "text/plain": [
       "5.291830611359959"
      ]
     },
     "execution_count": 6,
     "metadata": {},
     "output_type": "execute_result"
    }
   ],
   "source": [
    "theta = 10\n",
    "alpha = 2\n",
    "\n",
    "y = sts.uniform(0,1).rvs(size=10**6)\n",
    "x = np.exp(np.log(theta)*y**(1/alpha))\n",
    "ans7 = np.mean(x)\n",
    "ans7"
   ]
  },
  {
   "cell_type": "markdown",
   "metadata": {},
   "source": [
    "Нарисуйте для получившегося распределения гистограмму. Найдите в аналитическом виде плотность распределения. Нанесите её на картинку с гистограммой. "
   ]
  },
  {
   "cell_type": "code",
   "execution_count": 7,
   "metadata": {
    "nbgrader": {
     "grade": false,
     "grade_id": "cell-434f781c2db5c1c1",
     "locked": false,
     "schema_version": 3,
     "solution": true,
     "task": false
    }
   },
   "outputs": [
    {
     "data": {
      "image/png": "[encoded data removed]",
      "text/plain": [
       "<Figure size 432x288 with 1 Axes>"
      ]
     },
     "metadata": {
      "needs_background": "light"
     },
     "output_type": "display_data"
    }
   ],
   "source": [
    "plt.hist(x, bins=50, density=True)\n",
    "\n",
    "xs = np.linspace(1,10,300)\n",
    "ys = alpha*(np.log(xs)/np.log(theta))**(alpha-1)*1/np.log(theta)*1/xs\n",
    "plt.plot(xs, ys, lw=5);"
   ]
  },
  {
   "cell_type": "markdown",
   "metadata": {},
   "source": [
    "## Упражнение 4 (сходимость по вероятности)\n",
    "\n",
    "У распределения хи-квадрат есть следующее свойство: если $X_1, \\ldots, X_n \\sim iid~N(0,1)$, тогда имеет место следующая сходимость по веротяности:\n",
    "\n",
    "$$\n",
    "\\frac{\\chi^2_n}{n} = \\frac{X_1^2 + \\ldots + X_n^2}{n} \\to  1\n",
    "$$\n",
    "\n",
    "Продемонстрируйте с помощью симуляций, что это именно так. От вас требуется построить ту же картинку, что мы строили при иллюстрации ЗБЧ в лекции. Не забудьте построить для нескольких разных $\\varepsilon$ коридоры и убедиться, что последовательность с некоторого момента начинает пробивать их довольно редко."
   ]
  },
  {
   "cell_type": "code",
   "execution_count": 9,
   "metadata": {},
   "outputs": [
    {
     "data": {
      "image/png": "[encoded data removed]",
      "text/plain": [
       "<Figure size 720x360 with 1 Axes>"
      ]
     },
     "metadata": {
      "needs_background": "light"
     },
     "output_type": "display_data"
    }
   ],
   "source": [
    "n_obs = 10000\n",
    "\n",
    "norm_rv = sts.norm(loc=0, scale =1)\n",
    "x = norm_rv.rvs(size=n_obs)\n",
    "x2 = x**2\n",
    "x2_cumsum = np.cumsum(x2)\n",
    "x2_mean = x2_cumsum / np.arange(1, n_obs+1)\n",
    "plt.figure(figsize=(10,5))\n",
    "plt.plot(x2_mean)\n",
    "plt.axhline(1, color='b', linestyle='dashed', linewidth=2)\n",
    "plt.xlabel('Число подбрасываний игральной кости')\n",
    "plt.ylabel('Среднее значение');"
   ]
  },
  {
   "cell_type": "markdown",
   "metadata": {},
   "source": [
    " "
   ]
  }
 ],
 "metadata": {
  "celltoolbar": "Create Assignment",
  "kernelspec": {
   "display_name": "Python 3 (ipykernel)",
   "language": "python",
   "name": "python3"
  },
  "language_info": {
   "codemirror_mode": {
    "name": "ipython",
    "version": 3
   },
   "file_extension": ".py",
   "mimetype": "text/x-python",
   "name": "python",
   "nbconvert_exporter": "python",
   "pygments_lexer": "ipython3",
   "version": "3.9.7"
  }
 },
 "nbformat": 4,
 "nbformat_minor": 4
}
