{
 "cells": [
  {
   "cell_type": "markdown",
   "id": "12f9743f",
   "metadata": {},
   "source": [
    "# Генерация распределений\n",
    "\n",
    "Генерация распределений, расчет функции распределения, плотности распределения"
   ]
  },
  {
   "cell_type": "code",
   "execution_count": 2,
   "id": "496ea21e",
   "metadata": {},
   "outputs": [],
   "source": [
    "from scipy import stats\n",
    "import numpy as np"
   ]
  },
  {
   "cell_type": "markdown",
   "id": "b3f55703",
   "metadata": {},
   "source": [
    "__Нормальное распределение__"
   ]
  },
  {
   "cell_type": "code",
   "execution_count": 16,
   "id": "fb0d67f7",
   "metadata": {},
   "outputs": [],
   "source": [
    "from scipy.stats import norm"
   ]
  },
  {
   "cell_type": "markdown",
   "id": "d5e1628b",
   "metadata": {},
   "source": [
    "- Генерация вектора нормально распредленных случайных величин"
   ]
  },
  {
   "cell_type": "code",
   "execution_count": 34,
   "id": "e44bb3c9",
   "metadata": {},
   "outputs": [
    {
     "data": {
      "text/plain": [
       "array([-0.86492856, -0.57469889,  0.75715642, -1.47215999, -0.99962672,\n",
       "        0.19739793, -1.5678354 , -1.67081776, -0.93605969,  2.12860366])"
      ]
     },
     "execution_count": 34,
     "metadata": {},
     "output_type": "execute_result"
    }
   ],
   "source": [
    "norm_sample = norm.rvs(loc=0, scale=1, size=10) # loc - мат ожидание, scale = стандартное отклонение (корень из дипсерсии)\n",
    "norm_sample"
   ]
  },
  {
   "cell_type": "markdown",
   "id": "bb9bcc0c",
   "metadata": {},
   "source": [
    "- Плотность распределения в конкретной точке"
   ]
  },
  {
   "cell_type": "code",
   "execution_count": 35,
   "id": "45a6f09d",
   "metadata": {},
   "outputs": [
    {
     "data": {
      "text/plain": [
       "0.24197072451914337"
      ]
     },
     "execution_count": 35,
     "metadata": {},
     "output_type": "execute_result"
    }
   ],
   "source": [
    "norm_rv = norm(loc=0, scale=1) #задаем генератор\n",
    "norm_rv.pdf(1) # вычисляем плотность"
   ]
  },
  {
   "cell_type": "markdown",
   "id": "d48739b0",
   "metadata": {},
   "source": [
    "- Функция распределения в конкретной точке"
   ]
  },
  {
   "cell_type": "code",
   "execution_count": 37,
   "id": "2621cce9",
   "metadata": {},
   "outputs": [
    {
     "data": {
      "text/plain": [
       "0.8413447460685429"
      ]
     },
     "execution_count": 37,
     "metadata": {},
     "output_type": "execute_result"
    }
   ],
   "source": [
    "norm_rv = norm(loc=0, scale=1)\n",
    "norm_rv.cdf(1)"
   ]
  },
  {
   "cell_type": "code",
   "execution_count": 38,
   "id": "d416e74b",
   "metadata": {},
   "outputs": [
    {
     "data": {
      "text/plain": [
       "0.8413447460685429"
      ]
     },
     "execution_count": 38,
     "metadata": {},
     "output_type": "execute_result"
    }
   ],
   "source": [
    "norm.cdf(1, loc=0, scale=1)"
   ]
  },
  {
   "cell_type": "markdown",
   "id": "976a1e6f",
   "metadata": {},
   "source": [
    "- Среднее распределения"
   ]
  },
  {
   "cell_type": "code",
   "execution_count": 39,
   "id": "0d29dd23",
   "metadata": {},
   "outputs": [
    {
     "data": {
      "text/plain": [
       "0.0"
      ]
     },
     "execution_count": 39,
     "metadata": {},
     "output_type": "execute_result"
    }
   ],
   "source": [
    "norm.mean(loc=0, scale=1)"
   ]
  },
  {
   "cell_type": "code",
   "execution_count": 42,
   "id": "d6d6b1c1",
   "metadata": {},
   "outputs": [
    {
     "data": {
      "text/plain": [
       "2.0"
      ]
     },
     "execution_count": 42,
     "metadata": {},
     "output_type": "execute_result"
    }
   ],
   "source": [
    "norm.mean(loc=2, scale=1)"
   ]
  },
  {
   "cell_type": "markdown",
   "id": "b6dd94f6",
   "metadata": {},
   "source": [
    "- Стандартное отклонение"
   ]
  },
  {
   "cell_type": "code",
   "execution_count": 40,
   "id": "08af8cae",
   "metadata": {},
   "outputs": [
    {
     "data": {
      "text/plain": [
       "9.0"
      ]
     },
     "execution_count": 40,
     "metadata": {},
     "output_type": "execute_result"
    }
   ],
   "source": [
    "norm.std(loc=0, scale=9)"
   ]
  },
  {
   "cell_type": "markdown",
   "id": "6a84621a",
   "metadata": {},
   "source": [
    "- Дисперсия"
   ]
  },
  {
   "cell_type": "code",
   "execution_count": 41,
   "id": "109081a8",
   "metadata": {},
   "outputs": [
    {
     "data": {
      "text/plain": [
       "81.0"
      ]
     },
     "execution_count": 41,
     "metadata": {},
     "output_type": "execute_result"
    }
   ],
   "source": [
    "norm.var(loc=0, scale=9)"
   ]
  },
  {
   "cell_type": "markdown",
   "id": "19dcda3b",
   "metadata": {},
   "source": [
    "- Картинки"
   ]
  },
  {
   "cell_type": "code",
   "execution_count": null,
   "id": "1bdbd068",
   "metadata": {},
   "outputs": [],
   "source": [
    "# задаем решетку - через linspace генерируем массив значений - в диапазоне от Х до Y генерируем Z значений\n",
    "x = np.linspace(-3,3,100)\n",
    "# для каждого элемента в этом диапазоне рассчитываем плотности\n",
    "norm_rv = norm(loc=0, scale=1)\n",
    "pdf = norm_rv.pdf(x)"
   ]
  },
  {
   "cell_type": "code",
   "execution_count": 46,
   "id": "63d5539b",
   "metadata": {},
   "outputs": [
    {
     "data": {
      "image/png": "[encoded data removed]",
      "text/plain": [
       "<Figure size 432x288 with 1 Axes>"
      ]
     },
     "metadata": {
      "needs_background": "light"
     },
     "output_type": "display_data"
    }
   ],
   "source": [
    "# строим график через matplotlib\n",
    "import matplotlib.pyplot as plt\n",
    "plt.plot(x, pdf) # x - то, что будет по оси Ох, pdf - то, что будет по оси Оy\n",
    "plt.ylabel('f(x)')\n",
    "plt.xlabel('x');"
   ]
  },
  {
   "cell_type": "code",
   "execution_count": 47,
   "id": "13275a86",
   "metadata": {},
   "outputs": [
    {
     "data": {
      "image/png": "[encoded data removed]",
      "text/plain": [
       "<Figure size 432x288 with 1 Axes>"
      ]
     },
     "metadata": {
      "needs_background": "light"
     },
     "output_type": "display_data"
    }
   ],
   "source": [
    "plt.plot(x, pdf) # x - то, что будет по оси Ох, pdf - то, что будет по оси Оy\n",
    "plt.ylabel('$f(x)$') # если в долларах, то включается математич. режим формул, немного иной шрифт у названия осей\n",
    "plt.xlabel('$x$');"
   ]
  },
  {
   "cell_type": "code",
   "execution_count": 72,
   "id": "dadd361e",
   "metadata": {},
   "outputs": [
    {
     "data": {
      "image/png": "[encoded data removed]",
      "text/plain": [
       "<Figure size 432x288 with 1 Axes>"
      ]
     },
     "metadata": {
      "needs_background": "light"
     },
     "output_type": "display_data"
    }
   ],
   "source": [
    "# отметим на этом рисунке точки (значения плотности в конкретной точке)\n",
    "plt.plot(x, pdf, c='red', linewidth=1) # x - то, что будет по оси Ох, pdf - то, что будет по оси Оy\n",
    "plt.title('Плотность распределения', fontsize=12)\n",
    "plt.ylabel('$f(x)$') # если в долларах, то включается математич. режим формул, немного иной шрифт у названия осей\n",
    "plt.xlabel('$x$');\n",
    "plt.scatter([0,1,2], [norm_rv.pdf(0), norm_rv.pdf(1), norm_rv.pdf(2)], c=['green', 'red', 'blue']);\n",
    "# здесь координаты х - это 0,1,2, координаты y - это значение плотности в указанных иксах"
   ]
  },
  {
   "cell_type": "code",
   "execution_count": 89,
   "id": "c8631413",
   "metadata": {},
   "outputs": [
    {
     "data": {
      "image/png": "[encoded data removed]",
      "text/plain": [
       "<Figure size 432x288 with 1 Axes>"
      ]
     },
     "metadata": {
      "needs_background": "light"
     },
     "output_type": "display_data"
    }
   ],
   "source": [
    "# отметим цветом и штриховкой определенную вероятностную массу до конкретной точки\n",
    "\n",
    "x = np.linspace(-3,3,100)\n",
    "pdf = norm_rv.pdf(x)\n",
    "plt.plot(x, pdf, lw=1) # lw - толщина\n",
    "plt.title('Плотность распределения', fontsize=12)\n",
    "plt.ylabel('f(x)')\n",
    "plt.xlabel('x')\n",
    "\n",
    "plt.scatter(1, norm_rv.pdf(1), c='red');\n",
    "\n",
    "# новая часть - новый график, наслаиваемый\n",
    "xq = np.linspace(-3,1,100) # строим пространство до того знаечния, в котором нужно провести границу\n",
    "yq = norm_rv.pdf(xq) # находим плотность во всех точках пространства\n",
    "# новый тип графика - с заливкой\n",
    "plt.fill_between(xq, 0, yq, color='blue', alpha=0.1); # alpha - степень прозрачности\n",
    "# xq - координаты по оси x, 0 - до какого момента делать заливку по игрику, yq - координаты по оси y\n",
    "\n",
    "# рисуем трихованную линию - вертикальную, первый аргумен = x, остальные опционально границы игрика\n",
    "plt.axvline(1, color='gray', linestyle='--', lw=1); # lw - толщина"
   ]
  },
  {
   "cell_type": "code",
   "execution_count": 101,
   "id": "d304b73d",
   "metadata": {},
   "outputs": [
    {
     "data": {
      "image/png": "[encoded data removed]",
      "text/plain": [
       "<Figure size 432x288 with 1 Axes>"
      ]
     },
     "metadata": {
      "needs_background": "light"
     },
     "output_type": "display_data"
    }
   ],
   "source": [
    "x = np.linspace(-3,3,100)\n",
    "pdf = norm_rv.pdf(x)\n",
    "plt.plot(x, pdf, lw=1) \n",
    "plt.title('Плотность распределения', fontsize=12)\n",
    "plt.ylabel('f(x)')\n",
    "plt.xlabel('x')\n",
    "plt.scatter(1, norm_rv.pdf(1), c='red');\n",
    "xq = np.linspace(-3,1,100) \n",
    "yq = norm_rv.pdf(xq) \n",
    "plt.fill_between(xq, 0, yq, color='blue', alpha=0.1); \n",
    "\n",
    "\n",
    "# рисуем трихованную линию - задаем координаты начала (x1, y1) и конца (x,y), slope - наклон\n",
    "plt.axline([-3,0.24], [3,0.24], slope=None, color='gray', linestyle='--', lw=1); "
   ]
  },
  {
   "cell_type": "code",
   "execution_count": 113,
   "id": "f4e5c186",
   "metadata": {},
   "outputs": [
    {
     "data": {
      "image/png": "[encoded data removed]",
      "text/plain": [
       "<Figure size 432x288 with 1 Axes>"
      ]
     },
     "metadata": {
      "needs_background": "light"
     },
     "output_type": "display_data"
    }
   ],
   "source": [
    "x = np.linspace(-3,3,100)\n",
    "pdf = norm_rv.pdf(x)\n",
    "plt.plot(x, pdf, lw=1) \n",
    "plt.title('Плотность распределения', fontsize=12)\n",
    "plt.ylabel('f(x)')\n",
    "plt.xlabel('x')\n",
    "plt.scatter(1, norm_rv.pdf(1), c='red');\n",
    "xq = np.linspace(-3,1,100) \n",
    "yq = norm_rv.pdf(xq) \n",
    "plt.fill_between(xq, 0, yq, color='blue', alpha=0.1); \n",
    "\n",
    "\n",
    "# рисуем трихованную линию - горизонтальную, первый аргумент - y, остальные опицонально (от нуля до единицы) границы иксов\n",
    "plt.axhline(0.24, 0, 0.5, color='gray', linestyle='--', lw=1); "
   ]
  },
  {
   "cell_type": "code",
   "execution_count": 117,
   "id": "15c48ecb",
   "metadata": {},
   "outputs": [
    {
     "data": {
      "image/png": "[encoded data removed]",
      "text/plain": [
       "<Figure size 432x288 with 1 Axes>"
      ]
     },
     "metadata": {
      "needs_background": "light"
     },
     "output_type": "display_data"
    }
   ],
   "source": [
    "# Функция распределения\n",
    "\n",
    "x = np.linspace(-3,3,100)\n",
    "cdf = norm_rv.cdf(x)\n",
    "\n",
    "plt.plot(x, cdf, c='blue')\n",
    "plt.title('Функция распределения', fontsize=12)\n",
    "plt.ylabel('f(x)')\n",
    "plt.xlabel('x');\n",
    "\n",
    "# на ней же нарисуем функцию распрделения в точке 1\n",
    "plt.scatter([1], [norm_rv.cdf(1)], c='red');"
   ]
  },
  {
   "cell_type": "code",
   "execution_count": 122,
   "id": "a0bbcfeb",
   "metadata": {},
   "outputs": [
    {
     "name": "stdout",
     "output_type": "stream",
     "text": [
      "0.15730535589982697\n"
     ]
    },
    {
     "data": {
      "image/png": "[encoded data removed]",
      "text/plain": [
       "<Figure size 432x288 with 1 Axes>"
      ]
     },
     "metadata": {
      "needs_background": "light"
     },
     "output_type": "display_data"
    }
   ],
   "source": [
    "# Найдем вероятность, что 1<=x<=3\n",
    "\n",
    "print(norm_rv.cdf(3)-norm_rv.cdf(1))\n",
    "\n",
    "norm_rv = norm(loc=0, scale=1)\n",
    "x = np.linspace(-4,4,100)\n",
    "pdf = norm_rv.pdf(x)\n",
    "plt.plot(x, pdf, c='blue', lw=1)\n",
    "\n",
    "xq = np.linspace(1,3,100)\n",
    "yq = norm_rv.pdf(xq)\n",
    "plt.fill_between(xq, 0, yq, alpha=0.1)\n",
    "\n",
    "plt.scatter([1, 3], [norm_rv.pdf(1), norm_rv.pdf(3)], c='red')\n",
    "\n",
    "plt.axvline(1, c='red', linestyle='--', lw=2)\n",
    "plt.axvline(3, c='red', linestyle='--', lw=2);"
   ]
  },
  {
   "cell_type": "markdown",
   "id": "91e269e6",
   "metadata": {},
   "source": [
    "- Квантиль - величина, вероятность попадания левее которой равна указанному знаечнию гамма"
   ]
  },
  {
   "cell_type": "code",
   "execution_count": 123,
   "id": "61d64868",
   "metadata": {},
   "outputs": [
    {
     "data": {
      "text/plain": [
       "-1.6448536269514729"
      ]
     },
     "execution_count": 123,
     "metadata": {},
     "output_type": "execute_result"
    }
   ],
   "source": [
    "# в какой величине я окажусь с вероятностью 0,05?\n",
    "norm_rv = norm(loc=0, scale=1)\n",
    "q = norm_rv.ppf(0.05)\n",
    "q"
   ]
  },
  {
   "cell_type": "code",
   "execution_count": 132,
   "id": "1b36b418",
   "metadata": {},
   "outputs": [
    {
     "data": {
      "image/png": "[encoded data removed]",
      "text/plain": [
       "<Figure size 432x288 with 1 Axes>"
      ]
     },
     "metadata": {
      "needs_background": "light"
     },
     "output_type": "display_data"
    }
   ],
   "source": [
    "# картинка\n",
    "\n",
    "q = norm_rv.ppf(0.05)\n",
    "\n",
    "x = np.linspace(-3, 3, 100)\n",
    "pdf = norm_rv.pdf(x)\n",
    "plt.plot(x, pdf, c='blue', lw=1)\n",
    "plt.xlabel('x')\n",
    "plt.ylabel('f(x)')\n",
    "\n",
    "xq = np.linspace(-3, q)\n",
    "yq = norm_rv.pdf(xq)\n",
    "plt.fill_between(xq, 0, yq, color='blue', alpha=0.1)\n",
    "plt.axvline(q, color = 'red', linestyle='--', lw=1)\n",
    "\n",
    "# подпишем цифру\n",
    "y_max = plt.ylim()[1] # макс значение оси игрика\n",
    "plt.text(q+0.1, 0.8*y_max, round(q, 2), color='blue', fontsize=14);\n",
    "# задаем положение текста на координатной оси: координа текста по оси икс - это чуть правее нашего квантиля\n",
    "# по игрику - примерно на 80% по длине оси (выше середины)\n",
    "# потом третий аргумент - это знаечние квантиля (тут округленное через round до второго знака после запятой)"
   ]
  },
  {
   "cell_type": "markdown",
   "id": "fbb42e5e",
   "metadata": {},
   "source": [
    "- Эмпирическое распределение"
   ]
  },
  {
   "cell_type": "code",
   "execution_count": 134,
   "id": "ed3a9e58",
   "metadata": {},
   "outputs": [
    {
     "data": {
      "text/plain": [
       "array([ 0.07407805, -1.21154347,  1.58695096,  1.49559072,  0.44836713,\n",
       "       -0.51205487,  0.31314684, -0.84554718,  2.35504259,  0.64535478])"
      ]
     },
     "execution_count": 134,
     "metadata": {},
     "output_type": "execute_result"
    }
   ],
   "source": [
    "norm_rv = norm(loc=0, scale=1)\n",
    "sample = norm_rv.rvs(1000)\n",
    "sample[:10]"
   ]
  },
  {
   "cell_type": "code",
   "execution_count": 135,
   "id": "130c0eb4",
   "metadata": {},
   "outputs": [
    {
     "data": {
      "text/plain": [
       "(1000,)"
      ]
     },
     "execution_count": 135,
     "metadata": {},
     "output_type": "execute_result"
    }
   ],
   "source": [
    "# размерность \n",
    "sample.shape"
   ]
  },
  {
   "cell_type": "code",
   "execution_count": 136,
   "id": "83a8b992",
   "metadata": {},
   "outputs": [
    {
     "data": {
      "text/plain": [
       "0.04003421940898236"
      ]
     },
     "execution_count": 136,
     "metadata": {},
     "output_type": "execute_result"
    }
   ],
   "source": [
    "# среднее\n",
    "np.mean(sample)"
   ]
  },
  {
   "cell_type": "code",
   "execution_count": 137,
   "id": "aba68f0c",
   "metadata": {},
   "outputs": [
    {
     "data": {
      "text/plain": [
       "1.0520915192844535"
      ]
     },
     "execution_count": 137,
     "metadata": {},
     "output_type": "execute_result"
    }
   ],
   "source": [
    "# дисперсия\n",
    "np.var(sample)"
   ]
  },
  {
   "cell_type": "code",
   "execution_count": 138,
   "id": "aa7cddd4",
   "metadata": {},
   "outputs": [
    {
     "data": {
      "text/plain": [
       "1.0257151257949029"
      ]
     },
     "execution_count": 138,
     "metadata": {},
     "output_type": "execute_result"
    }
   ],
   "source": [
    "# стандартное отклонение\n",
    "np.std(sample)"
   ]
  },
  {
   "cell_type": "code",
   "execution_count": 140,
   "id": "ba73be75",
   "metadata": {},
   "outputs": [
    {
     "data": {
      "text/plain": [
       "0.07212119657123146"
      ]
     },
     "execution_count": 140,
     "metadata": {},
     "output_type": "execute_result"
    }
   ],
   "source": [
    "# медиана\n",
    "np.median(sample)"
   ]
  },
  {
   "cell_type": "code",
   "execution_count": 144,
   "id": "da4698c6",
   "metadata": {},
   "outputs": [
    {
     "data": {
      "text/plain": [
       "(array([ 1.,  2.,  2.,  0.,  0.,  0.,  3.,  1.,  5.,  6.,  7.,  6., 21.,\n",
       "        19., 23., 24., 25., 26., 47., 41., 52., 43., 51., 51., 44., 57.,\n",
       "        58., 55., 51., 52., 31., 41., 25., 20., 29., 19., 24.,  4.,  8.,\n",
       "         6.,  4.,  3.,  4.,  3.,  2.,  2.,  0.,  0.,  0.,  2.]),\n",
       " array([-3.40436052, -3.26527909, -3.12619765, -2.98711622, -2.84803479,\n",
       "        -2.70895335, -2.56987192, -2.43079048, -2.29170905, -2.15262761,\n",
       "        -2.01354618, -1.87446474, -1.73538331, -1.59630187, -1.45722044,\n",
       "        -1.318139  , -1.17905757, -1.03997613, -0.9008947 , -0.76181327,\n",
       "        -0.62273183, -0.4836504 , -0.34456896, -0.20548753, -0.06640609,\n",
       "         0.07267534,  0.21175678,  0.35083821,  0.48991965,  0.62900108,\n",
       "         0.76808252,  0.90716395,  1.04624539,  1.18532682,  1.32440825,\n",
       "         1.46348969,  1.60257112,  1.74165256,  1.88073399,  2.01981543,\n",
       "         2.15889686,  2.2979783 ,  2.43705973,  2.57614117,  2.7152226 ,\n",
       "         2.85430404,  2.99338547,  3.13246691,  3.27154834,  3.41062977,\n",
       "         3.54971121]),\n",
       " <BarContainer object of 50 artists>)"
      ]
     },
     "execution_count": 144,
     "metadata": {},
     "output_type": "execute_result"
    },
    {
     "data": {
      "image/png": "[encoded data removed]",
      "text/plain": [
       "<Figure size 432x288 with 1 Axes>"
      ]
     },
     "metadata": {
      "needs_background": "light"
     },
     "output_type": "display_data"
    }
   ],
   "source": [
    "# гистограмма\n",
    "plt.hist(sample, bins=50)"
   ]
  },
  {
   "cell_type": "code",
   "execution_count": 143,
   "id": "201760f3",
   "metadata": {},
   "outputs": [
    {
     "data": {
      "text/plain": [
       "(array([  5.,  15.,  76., 163., 241., 273., 146.,  61.,  16.,   4.]),\n",
       " array([-3.40436052, -2.70895335, -2.01354618, -1.318139  , -0.62273183,\n",
       "         0.07267534,  0.76808252,  1.46348969,  2.15889686,  2.85430404,\n",
       "         3.54971121]),\n",
       " <BarContainer object of 10 artists>)"
      ]
     },
     "execution_count": 143,
     "metadata": {},
     "output_type": "execute_result"
    },
    {
     "data": {
      "image/png": "[encoded data removed]",
      "text/plain": [
       "<Figure size 432x288 with 1 Axes>"
      ]
     },
     "metadata": {
      "needs_background": "light"
     },
     "output_type": "display_data"
    }
   ],
   "source": [
    "plt.hist(sample)"
   ]
  },
  {
   "cell_type": "code",
   "execution_count": 145,
   "id": "04f2c3cb",
   "metadata": {},
   "outputs": [
    {
     "data": {
      "image/png": "[encoded data removed]",
      "text/plain": [
       "<Figure size 432x288 with 1 Axes>"
      ]
     },
     "metadata": {
      "needs_background": "light"
     },
     "output_type": "display_data"
    }
   ],
   "source": [
    "# отнормируем гистограмму так, чтобы суммарно площадь под всеми бинами давала единицу (параметр density=True)\n",
    "plt.hist(sample, bins=30, density=True);"
   ]
  },
  {
   "cell_type": "code",
   "execution_count": 148,
   "id": "ccd3d134",
   "metadata": {},
   "outputs": [
    {
     "data": {
      "image/png": "[encoded data removed]",
      "text/plain": [
       "<Figure size 432x288 with 1 Axes>"
      ]
     },
     "metadata": {
      "needs_background": "light"
     },
     "output_type": "display_data"
    }
   ],
   "source": [
    "# нарисуем на той же гистограмме плотность распределения\n",
    "\n",
    "x = np.linspace(-3,3,100)\n",
    "pdf = norm_rv.pdf(x)\n",
    "plt.plot(x, pdf, c='red', lw=3)\n",
    "\n",
    "plt.hist(sample, bins=50, density=True)\n",
    "plt.ylabel('f(x)')\n",
    "plt.xlabel('x');"
   ]
  },
  {
   "cell_type": "code",
   "execution_count": 157,
   "id": "d50d95e2",
   "metadata": {},
   "outputs": [
    {
     "data": {
      "image/png": "[encoded data removed]",
      "text/plain": [
       "<Figure size 432x288 with 1 Axes>"
      ]
     },
     "metadata": {
      "needs_background": "light"
     },
     "output_type": "display_data"
    }
   ],
   "source": [
    "# эмпирическая функция рапсределения (ECDF)\n",
    "\n",
    "from statsmodels.distributions.empirical_distribution import ECDF\n",
    "ecdf = ECDF(sample) # эмпирическая функция по нашей выборке \n",
    "# ecdf.x - Значения по оси икс (координаты), ecdf.y - значения по оси y (значения эмпирической функции в массиве (x,y))\n",
    "\n",
    "# строим ступенчатый график\n",
    "plt.step(ecdf.x, ecdf.y, c='red') # обращаемся к значениям икса и к значениям игрика в качестве координат\n",
    "plt.ylabel('F(x)')\n",
    "plt.xlabel('x');"
   ]
  },
  {
   "cell_type": "code",
   "execution_count": 158,
   "id": "be6a1b8b",
   "metadata": {},
   "outputs": [
    {
     "data": {
      "text/plain": [
       "array([       -inf, -3.40436052, -3.21194693, ...,  2.97503316,\n",
       "        3.52437473,  3.54971121])"
      ]
     },
     "execution_count": 158,
     "metadata": {},
     "output_type": "execute_result"
    }
   ],
   "source": [
    "ecdf = ECDF(sample) # эмпирическая функция по нашей выборке\n",
    "ecdf.x "
   ]
  },
  {
   "cell_type": "code",
   "execution_count": 159,
   "id": "858d09f3",
   "metadata": {},
   "outputs": [
    {
     "data": {
      "text/plain": [
       "array([0.   , 0.001, 0.002, ..., 0.998, 0.999, 1.   ])"
      ]
     },
     "execution_count": 159,
     "metadata": {},
     "output_type": "execute_result"
    }
   ],
   "source": [
    "ecdf.y"
   ]
  },
  {
   "cell_type": "code",
   "execution_count": 160,
   "id": "43f2c338",
   "metadata": {},
   "outputs": [
    {
     "data": {
      "image/png": "[encoded data removed]",
      "text/plain": [
       "<Figure size 432x288 with 1 Axes>"
      ]
     },
     "metadata": {
      "needs_background": "light"
     },
     "output_type": "display_data"
    }
   ],
   "source": [
    "# построим поверх нее теоретическую фукцию распределения\n",
    "\n",
    "xq = np.linspace(-3,3,100)\n",
    "cdf = norm_rv.cdf(xq)\n",
    "plt.plot(xq, cdf, c='blue')\n",
    "\n",
    "ecdf = ECDF(sample)\n",
    "plt.step(ecdf.x, ecdf.y, c='red')\n",
    "plt.ylabel('F(x)')\n",
    "plt.xlabel('x');"
   ]
  },
  {
   "cell_type": "markdown",
   "id": "4605ab40",
   "metadata": {},
   "source": [
    "__Распределение Бернулли__"
   ]
  },
  {
   "cell_type": "code",
   "execution_count": 161,
   "id": "e1b6d771",
   "metadata": {},
   "outputs": [],
   "source": [
    "from scipy.stats import bernoulli"
   ]
  },
  {
   "cell_type": "code",
   "execution_count": 170,
   "id": "491c4041",
   "metadata": {},
   "outputs": [],
   "source": [
    "p = 0.2\n",
    "bern_rv = bernoulli(p)"
   ]
  },
  {
   "cell_type": "code",
   "execution_count": 173,
   "id": "8b9f0e79",
   "metadata": {},
   "outputs": [
    {
     "data": {
      "text/plain": [
       "1.0"
      ]
     },
     "execution_count": 173,
     "metadata": {},
     "output_type": "execute_result"
    }
   ],
   "source": [
    "cdf = bern_rv.cdf(1)\n",
    "cdf"
   ]
  },
  {
   "cell_type": "code",
   "execution_count": 188,
   "id": "e72bfe40",
   "metadata": {},
   "outputs": [
    {
     "data": {
      "image/png": "[encoded data removed]",
      "text/plain": [
       "<Figure size 432x288 with 1 Axes>"
      ]
     },
     "metadata": {
      "needs_background": "light"
     },
     "output_type": "display_data"
    }
   ],
   "source": [
    "x = np.linspace(-1,2,100)\n",
    "cdf = bern_rv.cdf(x)\n",
    "plt.plot(x, cdf);"
   ]
  },
  {
   "cell_type": "code",
   "execution_count": 177,
   "id": "fd7106b0",
   "metadata": {},
   "outputs": [
    {
     "data": {
      "image/png": "[encoded data removed]",
      "text/plain": [
       "<Figure size 432x288 with 1 Axes>"
      ]
     },
     "metadata": {
      "needs_background": "light"
     },
     "output_type": "display_data"
    }
   ],
   "source": [
    "x = np.linspace(-5,5,100)\n",
    "pmf = bern_rv.pmf(x)\n",
    "plt.plot(x, pmf);"
   ]
  },
  {
   "cell_type": "code",
   "execution_count": 187,
   "id": "c12ba0d3",
   "metadata": {},
   "outputs": [
    {
     "data": {
      "text/plain": [
       "0.8"
      ]
     },
     "execution_count": 187,
     "metadata": {},
     "output_type": "execute_result"
    }
   ],
   "source": [
    "pmf = bern_rv.pmf(0)\n",
    "pmf"
   ]
  },
  {
   "cell_type": "code",
   "execution_count": 189,
   "id": "8f9ac9d9",
   "metadata": {},
   "outputs": [
    {
     "data": {
      "text/plain": [
       "array([0, 0, 0, 0, 0, 1, 1, 1, 0, 1])"
      ]
     },
     "execution_count": 189,
     "metadata": {},
     "output_type": "execute_result"
    }
   ],
   "source": [
    "sample = bernoulli.rvs(p=0.2, size=1000)\n",
    "sample[:10]"
   ]
  },
  {
   "cell_type": "code",
   "execution_count": 190,
   "id": "7422de4c",
   "metadata": {},
   "outputs": [
    {
     "data": {
      "image/png": "[encoded data removed]",
      "text/plain": [
       "<Figure size 432x288 with 1 Axes>"
      ]
     },
     "metadata": {
      "needs_background": "light"
     },
     "output_type": "display_data"
    }
   ],
   "source": [
    "ecdf = ECDF(sample)\n",
    "plt.step(ecdf.x, ecdf.y);"
   ]
  },
  {
   "cell_type": "markdown",
   "id": "386bb03f",
   "metadata": {},
   "source": [
    "__Генерация выборок__"
   ]
  },
  {
   "cell_type": "code",
   "execution_count": 192,
   "id": "edd19b00",
   "metadata": {},
   "outputs": [
    {
     "data": {
      "text/plain": [
       "array([1, 8, 5, 4, 7])"
      ]
     },
     "execution_count": 192,
     "metadata": {},
     "output_type": "execute_result"
    }
   ],
   "source": [
    "# Сгенерируем выборку из вектора 1:10 размера 5 без повторений, все элементы выбираются равновероятно\n",
    "\n",
    "np.random.choice(np.arange(1,11), # диапазон, из которого выбираем от 1 до 11 (не включая 11)\n",
    "                 size = 5, # количество значений в выборке\n",
    "                 replace = False) # без повторений"
   ]
  },
  {
   "cell_type": "code",
   "execution_count": 196,
   "id": "b4374c8f",
   "metadata": {},
   "outputs": [
    {
     "data": {
      "text/plain": [
       "array([9, 8, 1, 9, 5])"
      ]
     },
     "execution_count": 196,
     "metadata": {},
     "output_type": "execute_result"
    }
   ],
   "source": [
    "# Сгенерируем выборку из вектора 1:10 размера 5 с повторениями, все элементы выбираются равновероятно\n",
    "\n",
    "np.random.choice(np.arange(1,11),\n",
    "                size=5,\n",
    "                replace=True)"
   ]
  },
  {
   "cell_type": "code",
   "execution_count": 197,
   "id": "24a48bbf",
   "metadata": {},
   "outputs": [
    {
     "data": {
      "text/plain": [
       "array(['карась', 'щука', 'карась', 'щука', 'карась', 'карась', 'щука',\n",
       "       'щука', 'щука', 'плотва'], dtype='<U6')"
      ]
     },
     "execution_count": 197,
     "metadata": {},
     "output_type": "execute_result"
    }
   ],
   "source": [
    "# Сгенерируем выборку из вектора рыб размера 10 с повторениями, все элементы выбираются с заданными вероятностями\n",
    "\n",
    "np.random.choice(['карась', 'плотва', 'щука'],\n",
    "                size=10,\n",
    "                p=[0.5, 0.2, 0.3])"
   ]
  },
  {
   "cell_type": "markdown",
   "id": "f58abb4e",
   "metadata": {},
   "source": [
    "__Зёрная генерация__"
   ]
  },
  {
   "cell_type": "markdown",
   "id": "d2ffcc69",
   "metadata": {},
   "source": [
    "- Используется, чтобы зафикисровать конкретную случайную генерацию"
   ]
  },
  {
   "cell_type": "code",
   "execution_count": 198,
   "id": "f3ba7dd9",
   "metadata": {},
   "outputs": [
    {
     "data": {
      "text/plain": [
       "array([8.29315282, 2.09281688, 0.91581404, 3.03616769, 1.07660463])"
      ]
     },
     "execution_count": 198,
     "metadata": {},
     "output_type": "execute_result"
    }
   ],
   "source": [
    "stats.norm(loc=3, scale=2).rvs(5)"
   ]
  },
  {
   "cell_type": "code",
   "execution_count": 199,
   "id": "933b6116",
   "metadata": {},
   "outputs": [
    {
     "data": {
      "text/plain": [
       "array([8.14592826, 5.99301894, 2.95419285, 0.94898206, 3.81532559])"
      ]
     },
     "execution_count": 199,
     "metadata": {},
     "output_type": "execute_result"
    }
   ],
   "source": [
    "stats.norm(loc=3, scale=2).rvs(5)"
   ]
  },
  {
   "cell_type": "code",
   "execution_count": 200,
   "id": "f86fe181",
   "metadata": {},
   "outputs": [
    {
     "data": {
      "text/plain": [
       "array([ 3.16307106,  4.65796117, -0.49265123,  3.28437029,  6.30376405])"
      ]
     },
     "execution_count": 200,
     "metadata": {},
     "output_type": "execute_result"
    }
   ],
   "source": [
    "stats.norm(loc=3, scale=2).rvs(5)"
   ]
  },
  {
   "cell_type": "code",
   "execution_count": 201,
   "id": "31f79fe0",
   "metadata": {},
   "outputs": [],
   "source": [
    "# каждый раз генерируется новая случайность"
   ]
  },
  {
   "cell_type": "markdown",
   "id": "e76bb248",
   "metadata": {},
   "source": [
    "Генерирование случайных величин никак не противоречит идее абсолютно точной воспроизводимости исследований. Для того, чтобы получились одинаковые результаты, необходимо синхронизировать генераторы случайных чисел на двух компьютерах. Делается это путём задания зерна генератора случайных чисел (seed). Зерно также называют стартовым значением. В качестве зерна подойдет любое целое число. "
   ]
  },
  {
   "cell_type": "code",
   "execution_count": 202,
   "id": "0e08096f",
   "metadata": {},
   "outputs": [
    {
     "data": {
      "text/plain": [
       "array([3.99342831, 2.7234714 , 4.29537708, 6.04605971, 2.53169325])"
      ]
     },
     "execution_count": 202,
     "metadata": {},
     "output_type": "execute_result"
    }
   ],
   "source": [
    "stats.norm(loc=3, scale=2).rvs(5, random_state=42)"
   ]
  },
  {
   "cell_type": "code",
   "execution_count": 203,
   "id": "d2dc87e2",
   "metadata": {},
   "outputs": [
    {
     "data": {
      "text/plain": [
       "array([3.99342831, 2.7234714 , 4.29537708, 6.04605971, 2.53169325])"
      ]
     },
     "execution_count": 203,
     "metadata": {},
     "output_type": "execute_result"
    }
   ],
   "source": [
    "stats.norm(loc=3, scale=2).rvs(5, random_state=42)"
   ]
  },
  {
   "cell_type": "code",
   "execution_count": 204,
   "id": "e20b1534",
   "metadata": {},
   "outputs": [],
   "source": [
    "# каждый раз одинаковые значения"
   ]
  },
  {
   "cell_type": "code",
   "execution_count": 206,
   "id": "5f9d7d7e",
   "metadata": {},
   "outputs": [
    {
     "data": {
      "text/plain": [
       "0.7704595922860656"
      ]
     },
     "execution_count": 206,
     "metadata": {},
     "output_type": "execute_result"
    }
   ],
   "source": [
    "import random\n",
    "random.random()"
   ]
  },
  {
   "cell_type": "code",
   "execution_count": 207,
   "id": "0c050b24",
   "metadata": {},
   "outputs": [
    {
     "data": {
      "text/plain": [
       "0.5964887911277109"
      ]
     },
     "execution_count": 207,
     "metadata": {},
     "output_type": "execute_result"
    }
   ],
   "source": [
    "random.random()"
   ]
  },
  {
   "cell_type": "code",
   "execution_count": 208,
   "id": "88478b16",
   "metadata": {},
   "outputs": [
    {
     "data": {
      "text/plain": [
       "0.3088946587429545"
      ]
     },
     "execution_count": 208,
     "metadata": {},
     "output_type": "execute_result"
    }
   ],
   "source": [
    "random.seed(444)\n",
    "random.random()"
   ]
  },
  {
   "cell_type": "code",
   "execution_count": 210,
   "id": "0df3f186",
   "metadata": {},
   "outputs": [
    {
     "data": {
      "text/plain": [
       "0.3088946587429545"
      ]
     },
     "execution_count": 210,
     "metadata": {},
     "output_type": "execute_result"
    }
   ],
   "source": [
    "random.seed(444)\n",
    "random.random()"
   ]
  },
  {
   "cell_type": "markdown",
   "id": "443f3c64",
   "metadata": {},
   "source": [
    "# Упражнения"
   ]
  },
  {
   "cell_type": "markdown",
   "id": "06b169dc",
   "metadata": {},
   "source": [
    "Задайте генератор для случайной величины имеющей нормальное распределение: $X \\sim N(4, 10^2)$. "
   ]
  },
  {
   "cell_type": "code",
   "execution_count": 2,
   "id": "e0616801",
   "metadata": {},
   "outputs": [],
   "source": [
    "import warnings\n",
    "warnings.filterwarnings(\"ignore\")\n",
    "import numpy as np\n",
    "import pandas as pd\n",
    "\n",
    "import scipy.stats as sts\n",
    "import matplotlib.pyplot as plt\n",
    "import seaborn as sns\n",
    "\n",
    "plt.style.use('ggplot')  # стиль для графиков\n",
    "%matplotlib inline"
   ]
  },
  {
   "cell_type": "code",
   "execution_count": 3,
   "id": "7f32c892",
   "metadata": {},
   "outputs": [],
   "source": [
    "norm_rv = sts.norm(4, 10)"
   ]
  },
  {
   "cell_type": "markdown",
   "id": "0adcd671",
   "metadata": {},
   "source": [
    "Найдите вероятности $P(X > 4)$, $P(X \\in [2; 20])$, $P(X < −5)$. Запишите их в переменные `p1, p2, p3`. "
   ]
  },
  {
   "cell_type": "code",
   "execution_count": 11,
   "id": "d3ce405c",
   "metadata": {},
   "outputs": [
    {
     "data": {
      "text/plain": [
       "(0.5, 0.5244604177395451, 0.18406012534675947)"
      ]
     },
     "execution_count": 11,
     "metadata": {},
     "output_type": "execute_result"
    }
   ],
   "source": [
    "p1 = 1 - norm_rv.cdf(4)\n",
    "p2 = norm_rv.cdf(20) - norm_rv.cdf(2)\n",
    "p3 = norm_rv.cdf(-5)\n",
    "p1, p2, p3"
   ]
  },
  {
   "cell_type": "markdown",
   "id": "be14efab",
   "metadata": {},
   "source": [
    "Найдите число $a$ такое, что $P(X > a) = 0.3$."
   ]
  },
  {
   "cell_type": "code",
   "execution_count": 12,
   "id": "6e16a591",
   "metadata": {},
   "outputs": [
    {
     "data": {
      "text/plain": [
       "9.244005127080406"
      ]
     },
     "execution_count": 12,
     "metadata": {},
     "output_type": "execute_result"
    }
   ],
   "source": [
    "a = norm_rv.ppf(0.7)\n",
    "a"
   ]
  },
  {
   "cell_type": "markdown",
   "id": "0776e0cc",
   "metadata": {},
   "source": [
    "Сгенерируйте выборку размера $100$. Постройте по этой выборке гистограмму. На том же рисунке изобразите плотность распределения нормальной случайной величины. "
   ]
  },
  {
   "cell_type": "code",
   "execution_count": 6,
   "id": "362ac7c4",
   "metadata": {},
   "outputs": [
    {
     "data": {
      "image/png": "[encoded data removed]",
      "text/plain": [
       "<Figure size 432x288 with 1 Axes>"
      ]
     },
     "metadata": {
      "needs_background": "light"
     },
     "output_type": "display_data"
    }
   ],
   "source": [
    "x = norm_rv.rvs(100)\n",
    "plt.hist(x, density=True, bins=20)\n",
    "xs = np.linspace(-20, 30, 300)\n",
    "ys = norm_rv.pdf(xs)\n",
    "plt.plot(xs, ys);"
   ]
  },
  {
   "cell_type": "markdown",
   "id": "70937ca2",
   "metadata": {},
   "source": [
    "Оцените эмпирическую функцию распределения. Изобразите её и теоретическую функцию распределения на графике. "
   ]
  },
  {
   "cell_type": "code",
   "execution_count": 7,
   "id": "42a8de32",
   "metadata": {},
   "outputs": [
    {
     "data": {
      "image/png": "[encoded data removed]",
      "text/plain": [
       "<Figure size 432x288 with 1 Axes>"
      ]
     },
     "metadata": {
      "needs_background": "light"
     },
     "output_type": "display_data"
    }
   ],
   "source": [
    "from statsmodels.distributions.empirical_distribution import ECDF\n",
    "x = norm_rv.rvs(100)\n",
    "ecdf = ECDF(x)\n",
    "plt.step(ecdf.x, ecdf.y, label='empirical CDF')\n",
    "ys = norm_rv.cdf(xs)\n",
    "plt.plot(xs, ys);"
   ]
  },
  {
   "cell_type": "markdown",
   "id": "46a80eab",
   "metadata": {},
   "source": [
    "\n",
    "Пусть количество писем со спамом, которое пришло к нам на почту, имеет распределение Пуассона. Предположим, что вы получаете в среднем три спам-письма в день. Какова доля дней, в которые вы получаете пять или больше спам-писем?"
   ]
  },
  {
   "cell_type": "code",
   "execution_count": 9,
   "id": "ad371a93",
   "metadata": {},
   "outputs": [
    {
     "data": {
      "text/plain": [
       "0.1847367554762278"
      ]
     },
     "execution_count": 9,
     "metadata": {},
     "output_type": "execute_result"
    }
   ],
   "source": [
    "p = 1 - sts.poisson(3).cdf(4)\n",
    "p"
   ]
  },
  {
   "cell_type": "markdown",
   "id": "185c262e",
   "metadata": {},
   "source": [
    "Во время ЧЕ по футболу 2008 года и ЧМ 2010 года Осьминог Пауль занимался прогнозированием побед (после он ушёл в финансовую аналитику и IB). Осьминог дал верные прогнозы в 12 случаях из 14. Если предположить, что Пауль выбирает победителя наугад, какова вероятность получить 12 верных прогнозов из 14?"
   ]
  },
  {
   "cell_type": "code",
   "execution_count": 13,
   "id": "ebc36d2d",
   "metadata": {},
   "outputs": [
    {
     "data": {
      "text/plain": [
       "0.005554199218750009"
      ]
     },
     "execution_count": 13,
     "metadata": {},
     "output_type": "execute_result"
    }
   ],
   "source": [
    "p = sts.binom(14, 0.5).pmf(12)\n",
    "p"
   ]
  },
  {
   "cell_type": "markdown",
   "id": "caffc3a7",
   "metadata": {},
   "source": [
    "Если предположить, что Осьминог правильно выбирает победителя с вероятностью $0.9$, какова вероятность получить тот же результат? "
   ]
  },
  {
   "cell_type": "code",
   "execution_count": 14,
   "id": "9af1dcd7",
   "metadata": {},
   "outputs": [
    {
     "data": {
      "text/plain": [
       "0.25701087819770996"
      ]
     },
     "execution_count": 14,
     "metadata": {},
     "output_type": "execute_result"
    }
   ],
   "source": [
    "p = sts.binom(14, 0.9).pmf(12)\n",
    "p"
   ]
  }
 ],
 "metadata": {
  "kernelspec": {
   "display_name": "Python 3 (ipykernel)",
   "language": "python",
   "name": "python3"
  },
  "language_info": {
   "codemirror_mode": {
    "name": "ipython",
    "version": 3
   },
   "file_extension": ".py",
   "mimetype": "text/x-python",
   "name": "python",
   "nbconvert_exporter": "python",
   "pygments_lexer": "ipython3",
   "version": "3.9.7"
  }
 },
 "nbformat": 4,
 "nbformat_minor": 5
}
