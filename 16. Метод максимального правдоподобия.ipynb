{
 "cells": [
  {
   "cell_type": "markdown",
   "metadata": {},
   "source": [
    "# Метод максимального правдоподобия\n",
    "\n",
    "Оценка методом максимального правдоподобия параметра экспоненциального распределения. Оценка логистической регрессии. Тест отношения правдоподобий. Проверка гипотез."
   ]
  },
  {
   "cell_type": "code",
   "execution_count": 1,
   "metadata": {},
   "outputs": [],
   "source": [
    "import warnings\n",
    "warnings.filterwarnings('ignore')\n",
    "import numpy as np\n",
    "import pandas as pd\n",
    "\n",
    "from scipy import stats\n",
    "from scipy.optimize import minimize\n",
    "\n",
    "import seaborn as sns\n",
    "import matplotlib.pyplot as plt\n",
    "\n",
    "plt.style.use('ggplot')\n",
    "%matplotlib inline"
   ]
  },
  {
   "cell_type": "markdown",
   "metadata": {},
   "source": [
    "## Экспоненциальное распределение и ММП\n",
    "\n",
    "__Генерация выборки__ \n",
    "<p> Пусть $X \\sim Exp(0.05)$. Сгенерируем из этого распределения выборку размера $1000$. У метода `rvs` используем `random_state=42` "
   ]
  },
  {
   "cell_type": "code",
   "execution_count": 2,
   "metadata": {
    "deletable": false,
    "nbgrader": {
     "cell_type": "code",
     "checksum": "cf5fe495e59777dc463c48268c39f794",
     "grade": false,
     "grade_id": "cell-f56ad0d7e5287be8",
     "locked": false,
     "schema_version": 3,
     "solution": true,
     "task": false
    }
   },
   "outputs": [],
   "source": [
    "x = stats.expon(scale=1/0.05).rvs(size=1000, random_state=42)"
   ]
  },
  {
   "cell_type": "markdown",
   "metadata": {},
   "source": [
    "__Функция правдоподобия__ <p> Выпишем логарифмическую функцию правдоподобия"
   ]
  },
  {
   "cell_type": "code",
   "execution_count": 64,
   "metadata": {
    "deletable": false,
    "nbgrader": {
     "cell_type": "code",
     "checksum": "c16066e01c7ba00e9fb4c8951a3114ce",
     "grade": false,
     "grade_id": "cell-8b65f97b3713651c",
     "locked": false,
     "schema_version": 3,
     "solution": true,
     "task": false
    }
   },
   "outputs": [],
   "source": [
    "def lnL(theta, x):\n",
    "    x = np.array(x)\n",
    "    n = x.size\n",
    "    l = n*np.log(theta) - theta*np.sum(x)\n",
    "    \n",
    "    return -l"
   ]
  },
  {
   "cell_type": "code",
   "execution_count": 18,
   "metadata": {
    "deletable": false,
    "editable": false,
    "nbgrader": {
     "cell_type": "code",
     "checksum": "0936f9fd98414ca0840289dcd0a97060",
     "grade": true,
     "grade_id": "cell-06138bffb4961739",
     "locked": true,
     "points": 1,
     "schema_version": 3,
     "solution": false,
     "task": false
    }
   },
   "outputs": [],
   "source": [
    "assert np.abs(lnL(4, x) - 76414.1814) < 1e-4\n",
    "\n",
    "# несколько похожих скрытых тестов"
   ]
  },
  {
   "cell_type": "markdown",
   "metadata": {},
   "source": [
    "__Оценим значение параметра__ $\\lambda$ по сгенерированной выборке `x`."
   ]
  },
  {
   "cell_type": "code",
   "execution_count": 23,
   "metadata": {
    "deletable": false,
    "nbgrader": {
     "cell_type": "code",
     "checksum": "6c95cc8f52de834cdacce2f213d505d5",
     "grade": false,
     "grade_id": "cell-46d606a0b318889e",
     "locked": false,
     "schema_version": 3,
     "solution": true,
     "task": false
    }
   },
   "outputs": [
    {
     "data": {
      "text/plain": [
       "      fun: 3967.853186205376\n",
       " hess_inv: array([[5.28459964e-06]])\n",
       "      jac: array([-3.05175781e-05])\n",
       "  message: 'Desired error not necessarily achieved due to precision loss.'\n",
       "     nfev: 14\n",
       "      nit: 4\n",
       "     njev: 7\n",
       "   status: 2\n",
       "  success: False\n",
       "        x: array([0.05141356])"
      ]
     },
     "execution_count": 23,
     "metadata": {},
     "output_type": "execute_result"
    }
   ],
   "source": [
    "theta_init = 0.05\n",
    "res = minimize(lnL, theta_init, args=x)\n",
    "res"
   ]
  },
  {
   "cell_type": "code",
   "execution_count": 24,
   "metadata": {
    "deletable": false,
    "editable": false,
    "nbgrader": {
     "cell_type": "code",
     "checksum": "513429d1704694149de80b0412ba4c05",
     "grade": true,
     "grade_id": "cell-fdb20543b8303077",
     "locked": true,
     "points": 1,
     "schema_version": 3,
     "solution": false,
     "task": false
    }
   },
   "outputs": [],
   "source": [
    "assert np.abs(res.x[0] - 0.0514) < 1e-4\n",
    "\n",
    "# несколько похожих скрытых тестов"
   ]
  },
  {
   "cell_type": "markdown",
   "metadata": {},
   "source": [
    "__Построим график__ для функции правдоподобия. По оси $x$ отложим значения $\\lambda$, по оси $y$ логарифм правдоподобия. Отметим на картинке точку оптимума. "
   ]
  },
  {
   "cell_type": "code",
   "execution_count": 58,
   "metadata": {
    "deletable": false,
    "nbgrader": {
     "cell_type": "code",
     "checksum": "983bff4bd26687e77b72f755b54ea24f",
     "grade": false,
     "grade_id": "cell-4de953f7f7c66a39",
     "locked": false,
     "schema_version": 3,
     "solution": true,
     "task": false
    }
   },
   "outputs": [
    {
     "data": {
      "image/png": "[encoded data removed]",
      "text/plain": [
       "<Figure size 432x288 with 1 Axes>"
      ]
     },
     "metadata": {
      "needs_background": "light"
     },
     "output_type": "display_data"
    }
   ],
   "source": [
    "l = np.linspace(0.0025, 0.25, 1000)\n",
    "lh = lnL(l, x)\n",
    "\n",
    "plt.plot(l, -lh)\n",
    "plt.scatter(res.x[0], -lnL(res.x[0], x), color='green', s=60, marker='o');"
   ]
  },
  {
   "cell_type": "markdown",
   "metadata": {},
   "source": [
    "__Построим для параметра $\\lambda$ асимптотический $80\\%$ доверительный интервал__ "
   ]
  },
  {
   "cell_type": "code",
   "execution_count": 60,
   "metadata": {
    "deletable": false,
    "nbgrader": {
     "cell_type": "code",
     "checksum": "9c551d72f5c326f977b2b6762ae62ca6",
     "grade": false,
     "grade_id": "cell-c20e8fc746ce9925",
     "locked": false,
     "schema_version": 3,
     "solution": true,
     "task": false
    }
   },
   "outputs": [
    {
     "data": {
      "text/plain": [
       "(array([0.0484675]), array([0.05435962]), 1.2815515655446004)"
      ]
     },
     "execution_count": 60,
     "metadata": {},
     "output_type": "execute_result"
    }
   ],
   "source": [
    "lambda_hat = res.x[0]\n",
    "alpha = 0.2\n",
    "z = stats.norm.ppf(1-alpha/2)\n",
    "\n",
    "left = lambda_hat-z*np.sqrt(res.hess_inv[0])\n",
    "right = lambda_hat+z*np.sqrt(res.hess_inv[0])\n",
    "\n",
    "left, right, z"
   ]
  },
  {
   "cell_type": "code",
   "execution_count": 61,
   "metadata": {
    "deletable": false,
    "editable": false,
    "nbgrader": {
     "cell_type": "code",
     "checksum": "79098e408937d94334a534d4a159fe63",
     "grade": true,
     "grade_id": "cell-b6d9034e824cb106",
     "locked": true,
     "points": 2,
     "schema_version": 3,
     "solution": false,
     "task": false
    }
   },
   "outputs": [],
   "source": [
    "assert np.abs(z - 1.2815) < 1e-4\n",
    "\n",
    "# несколько похожих скрытых тестов"
   ]
  },
  {
   "cell_type": "markdown",
   "metadata": {},
   "source": [
    "__Проверим на уровне значимости $1\\%$ тестом отношения правдоподобия гипотезу__ о том, что $\\lambda = 0.05$. "
   ]
  },
  {
   "cell_type": "code",
   "execution_count": 72,
   "metadata": {},
   "outputs": [],
   "source": [
    "def lnL_ur(theta, x):\n",
    "    x = np.array(x)\n",
    "    n = x.size\n",
    "    l_ur = n*np.log(theta) - theta*np.sum(x)\n",
    "    \n",
    "    return -l_ur\n",
    "\n",
    "def lnL_r(theta, x):\n",
    "    x = np.array(x)\n",
    "    n = x.size\n",
    "    l_r = n*np.log(0.05) - 0.05*np.sum(x)\n",
    "    \n",
    "    return -l_r"
   ]
  },
  {
   "cell_type": "code",
   "execution_count": 73,
   "metadata": {},
   "outputs": [],
   "source": [
    "theta_init = 0.05\n",
    "res_ur = minimize(lnL_ur, theta_init, args=x)\n",
    "res_r = minimize(lnL_r, theta_init, args=x)"
   ]
  },
  {
   "cell_type": "code",
   "execution_count": 74,
   "metadata": {},
   "outputs": [
    {
     "data": {
      "text/plain": [
       "      fun: 3967.853186205376\n",
       " hess_inv: array([[5.28459964e-06]])\n",
       "      jac: array([-3.05175781e-05])\n",
       "  message: 'Desired error not necessarily achieved due to precision loss.'\n",
       "     nfev: 14\n",
       "      nit: 4\n",
       "     njev: 7\n",
       "   status: 2\n",
       "  success: False\n",
       "        x: array([0.05141356])"
      ]
     },
     "execution_count": 74,
     "metadata": {},
     "output_type": "execute_result"
    }
   ],
   "source": [
    "res_ur"
   ]
  },
  {
   "cell_type": "code",
   "execution_count": 78,
   "metadata": {
    "deletable": false,
    "nbgrader": {
     "cell_type": "code",
     "checksum": "607ddce16e40b0a6e1f9bbb2d787f4ea",
     "grade": false,
     "grade_id": "cell-78a916d342e6ca21",
     "locked": false,
     "schema_version": 3,
     "solution": true,
     "task": false
    }
   },
   "outputs": [],
   "source": [
    "lnL_un = res_ur.fun\n",
    "lnL_r = res_r.fun\n",
    "\n",
    "# наблюдаемое значение статистики\n",
    "LR_obs =  2*(lnL_r - lnL_un) \n",
    "\n",
    "# критическое значение\n",
    "LR_cr = stats.chi2(df=1).ppf(0.99)"
   ]
  },
  {
   "cell_type": "code",
   "execution_count": 79,
   "metadata": {
    "deletable": false,
    "editable": false,
    "nbgrader": {
     "cell_type": "code",
     "checksum": "a4b0e8af48c132461b0de8789f51c326",
     "grade": true,
     "grade_id": "cell-f2b0554f56b04198",
     "locked": true,
     "points": 1,
     "schema_version": 3,
     "solution": false,
     "task": false
    }
   },
   "outputs": [],
   "source": [
    "assert np.abs(lnL_un - 3967.8531) < 1e-4\n",
    "\n",
    "# несколько похожих скрытых тестов"
   ]
  },
  {
   "cell_type": "markdown",
   "metadata": {},
   "source": [
    "## Логистическая регрессия и ММП\n",
    "\n",
    "Оценим методом максимального правдоподобия логистическую регрессию.\n",
    "\n",
    "$28$ января $1986$ года космический шатл «Челленджер» взорвался при взлёте. Семь астронавтов, находившихся на борту, погибли. В ходе расследования причин катастрофы основной версией была неполадка с резиновыми уплотнительными кольцами в соединении с ракетными ускорителями. Для $23$ предшествовавших катастрофе полётов «Челленджера» известны температура воздуха и появление повреждений хотя бы у одного из уплотнительных колец."
   ]
  },
  {
   "cell_type": "code",
   "execution_count": 80,
   "metadata": {},
   "outputs": [
    {
     "name": "stdout",
     "output_type": "stream",
     "text": [
      "(23, 3)\n"
     ]
    },
    {
     "data": {
      "text/html": [
       "<div>\n",
       "<style scoped>\n",
       "    .dataframe tbody tr th:only-of-type {\n",
       "        vertical-align: middle;\n",
       "    }\n",
       "\n",
       "    .dataframe tbody tr th {\n",
       "        vertical-align: top;\n",
       "    }\n",
       "\n",
       "    .dataframe thead th {\n",
       "        text-align: right;\n",
       "    }\n",
       "</style>\n",
       "<table border=\"1\" class=\"dataframe\">\n",
       "  <thead>\n",
       "    <tr style=\"text-align: right;\">\n",
       "      <th></th>\n",
       "      <th>Date</th>\n",
       "      <th>Temperature</th>\n",
       "      <th>Incident</th>\n",
       "    </tr>\n",
       "  </thead>\n",
       "  <tbody>\n",
       "    <tr>\n",
       "      <th>0</th>\n",
       "      <td>04/12/1981</td>\n",
       "      <td>66</td>\n",
       "      <td>0</td>\n",
       "    </tr>\n",
       "    <tr>\n",
       "      <th>1</th>\n",
       "      <td>11/12/1981</td>\n",
       "      <td>70</td>\n",
       "      <td>1</td>\n",
       "    </tr>\n",
       "    <tr>\n",
       "      <th>2</th>\n",
       "      <td>3/22/82</td>\n",
       "      <td>69</td>\n",
       "      <td>0</td>\n",
       "    </tr>\n",
       "    <tr>\n",
       "      <th>3</th>\n",
       "      <td>01/11/1982</td>\n",
       "      <td>68</td>\n",
       "      <td>0</td>\n",
       "    </tr>\n",
       "    <tr>\n",
       "      <th>4</th>\n",
       "      <td>04/04/1983</td>\n",
       "      <td>67</td>\n",
       "      <td>0</td>\n",
       "    </tr>\n",
       "  </tbody>\n",
       "</table>\n",
       "</div>"
      ],
      "text/plain": [
       "         Date  Temperature  Incident\n",
       "0  04/12/1981           66         0\n",
       "1  11/12/1981           70         1\n",
       "2     3/22/82           69         0\n",
       "3  01/11/1982           68         0\n",
       "4  04/04/1983           67         0"
      ]
     },
     "execution_count": 80,
     "metadata": {},
     "output_type": "execute_result"
    }
   ],
   "source": [
    "df = pd.read_csv('challenger.csv', sep=',')\n",
    "print(df.shape)\n",
    "df.head()"
   ]
  },
  {
   "cell_type": "markdown",
   "metadata": {},
   "source": [
    "__а)__ Постройте на графиках гистограмму для распределения температуры $(Temperature)$ в ситуациях, когда хотябы одно кольцо было повреждено $(Incident = 1)$ и в ситуациях, когда ни одного повреждения не было $(Incident = 0)$. "
   ]
  },
  {
   "cell_type": "code",
   "execution_count": 90,
   "metadata": {
    "deletable": false,
    "nbgrader": {
     "cell_type": "code",
     "checksum": "122ef16c11c5e50db7c9a8bb5f7b85b0",
     "grade": false,
     "grade_id": "cell-4f7c85bfda7decc0",
     "locked": false,
     "schema_version": 3,
     "solution": true,
     "task": false
    }
   },
   "outputs": [
    {
     "data": {
      "image/png": "[encoded data removed]",
      "text/plain": [
       "<Figure size 432x288 with 1 Axes>"
      ]
     },
     "metadata": {
      "needs_background": "light"
     },
     "output_type": "display_data"
    }
   ],
   "source": [
    "sns.histplot(df[df['Incident']== 1]['Temperature'], bins = 10)\n",
    "sns.histplot(df[df['Incident']== 0]['Temperature'], bins = 10);"
   ]
  },
  {
   "cell_type": "code",
   "execution_count": 91,
   "metadata": {},
   "outputs": [
    {
     "data": {
      "text/plain": [
       "(63.714285714285715, 72.125)"
      ]
     },
     "execution_count": 91,
     "metadata": {},
     "output_type": "execute_result"
    }
   ],
   "source": [
    "df[df['Incident'] == 1].Temperature.mean(), df[df['Incident'] == 0].Temperature.mean()"
   ]
  },
  {
   "cell_type": "markdown",
   "metadata": {},
   "source": [
    "Судя по всему, между температурой и вероятностью поломки есть взаимосвязь. Пусть вероятность поломки зависит от температуры экспоненциально:\n",
    "    \n",
    "$$\n",
    "P(Incident = 1) = \\frac{e^{\\alpha + \\beta \\cdot t}}{1 + e^{\\alpha + \\beta \\cdot t}} = \\frac{1}{1 + e^{-1\\cdot(\\alpha + \\beta \\cdot t)}} \n",
    "$$\n",
    "    \n",
    "Выведем __функцию правдоподобия и задачу для оптимизации поиска коэффициентов $\\alpha$ и  $\\beta$__"
   ]
  },
  {
   "cell_type": "code",
   "execution_count": 153,
   "metadata": {
    "deletable": false,
    "nbgrader": {
     "cell_type": "code",
     "checksum": "6d6f65d90499b36288cf1da8a59addc5",
     "grade": false,
     "grade_id": "cell-0b993a930584fc58",
     "locked": false,
     "schema_version": 3,
     "solution": true,
     "task": false
    }
   },
   "outputs": [],
   "source": [
    "from math import prod\n",
    "\n",
    "def lnL(theta, data):\n",
    "    a, b = theta # alpha & beta\n",
    "    t = np.array(data.Temperature) # массив с данными о температуре (параметр, влияющий на вероятность поломки)\n",
    "    p = 1 / (1 + np.exp(-(a + b*t))) # вероятности в зависимости от значения температуры\n",
    "    y = np.array(data.Incident) # индикатор поломки (1 - случилась поломка, 0 - не случилась)\n",
    "    s = (p**y)*((1-p)**(1-y)) \n",
    "    # вектор \"частичек\" правдоподобия, вероятности получить в распределении бернулли значения индикаторов\n",
    "    l = np.log(prod(s)) # логарифм правдоподобия (логарифм произведения)\n",
    "    return -l"
   ]
  },
  {
   "cell_type": "code",
   "execution_count": 137,
   "metadata": {
    "deletable": false,
    "editable": false,
    "nbgrader": {
     "cell_type": "code",
     "checksum": "1d37e18d62a5998262779f901c8ce1f2",
     "grade": true,
     "grade_id": "cell-63d24d1dbe5d8980",
     "locked": true,
     "points": 1,
     "schema_version": 3,
     "solution": false,
     "task": false
    }
   },
   "outputs": [],
   "source": [
    "assert np.abs(lnL([4, 0.2], df) - 294.8) < 1e-4\n",
    "\n",
    "# несколько похожих скрытых тестов"
   ]
  },
  {
   "cell_type": "markdown",
   "metadata": {},
   "source": [
    "__Оценим параметры $\\alpha$ и $\\beta$__ с помощью метода максимального правдоподобия."
   ]
  },
  {
   "cell_type": "code",
   "execution_count": 154,
   "metadata": {
    "deletable": false,
    "nbgrader": {
     "cell_type": "code",
     "checksum": "0cda9b46363a691403e587c04b35a8f4",
     "grade": false,
     "grade_id": "cell-160598072dae63da",
     "locked": false,
     "schema_version": 3,
     "solution": true,
     "task": false
    }
   },
   "outputs": [
    {
     "data": {
      "text/plain": [
       "      fun: 10.157596343998065\n",
       " hess_inv: array([[ 5.33781132e+01, -7.80341770e-01],\n",
       "       [-7.80341770e-01,  1.14738253e-02]])\n",
       "      jac: array([-4.76837158e-07, -2.92062759e-05])\n",
       "  message: 'Desired error not necessarily achieved due to precision loss.'\n",
       "     nfev: 144\n",
       "      nit: 14\n",
       "     njev: 44\n",
       "   status: 2\n",
       "  success: False\n",
       "        x: array([15.04298512, -0.23216397])"
      ]
     },
     "execution_count": 154,
     "metadata": {},
     "output_type": "execute_result"
    }
   ],
   "source": [
    "theta_init = [0,0]\n",
    "res = minimize(lnL, theta_init, args=df)\n",
    "res"
   ]
  },
  {
   "cell_type": "code",
   "execution_count": 134,
   "metadata": {},
   "outputs": [
    {
     "data": {
      "text/plain": [
       "array([15.04298512, -0.23216397])"
      ]
     },
     "execution_count": 134,
     "metadata": {},
     "output_type": "execute_result"
    }
   ],
   "source": [
    "res.x # altha & beta MLE"
   ]
  },
  {
   "cell_type": "code",
   "execution_count": 135,
   "metadata": {
    "deletable": false,
    "editable": false,
    "nbgrader": {
     "cell_type": "code",
     "checksum": "d31d1a270d7e36e07d8ab8ea79635472",
     "grade": true,
     "grade_id": "cell-17af0e0290ffd6bf",
     "locked": true,
     "points": 1,
     "schema_version": 3,
     "solution": false,
     "task": false
    }
   },
   "outputs": [],
   "source": [
    "assert np.abs(res.fun - 10.1576) < 1e-4\n",
    "\n",
    "# несколько похожих скрытых тестов"
   ]
  },
  {
   "cell_type": "markdown",
   "metadata": {},
   "source": [
    "С помощью теста отношения правдоподобий на уровне значимости $5\\%$ __проверим гипотезу__ о том, что $\\alpha = \\beta = 0$."
   ]
  },
  {
   "cell_type": "code",
   "execution_count": 151,
   "metadata": {},
   "outputs": [],
   "source": [
    "def lnL_r(theta, data):\n",
    "    a, b = [0,0] # alpha & beta\n",
    "    t = np.array(data.Temperature) # массив с данными о температуре (параметр, влияющий на вероятность поломки)\n",
    "    p = 1 / (1 + np.exp(-(a + b*t))) # вероятности в зависимости от значения температуры\n",
    "    y = np.array(data.Incident) # индикатор поломки (1 - случилась поломка, 0 - не случилась)\n",
    "    s = (p**y)*((1-p)**(1-y)) \n",
    "    # вектор \"частичек\" правдоподобия, вероятности получить в распределении бернулли значения индикаторов\n",
    "    l = np.log(prod(s)) # логарифм правдоподобия (логарифм произведения)\n",
    "    return -l"
   ]
  },
  {
   "cell_type": "code",
   "execution_count": 158,
   "metadata": {},
   "outputs": [],
   "source": [
    "# второй вариант, в качестве р - подставляем 1/2 (вероятность поломки никак не зависит от температуры и всегда равна 0.5)\n",
    "def lnL_r(theta, data):\n",
    "    x = np.array(data.Incident)\n",
    "    n = x.size\n",
    "    l = np.sum(x)*np.log(0.5)+(n-np.sum(x))*np.log((1-0.5))\n",
    "    return -l"
   ]
  },
  {
   "cell_type": "code",
   "execution_count": 159,
   "metadata": {},
   "outputs": [
    {
     "data": {
      "text/plain": [
       "      fun: 15.942385152878742\n",
       " hess_inv: array([[1, 0],\n",
       "       [0, 1]])\n",
       "      jac: array([0., 0.])\n",
       "  message: 'Optimization terminated successfully.'\n",
       "     nfev: 3\n",
       "      nit: 0\n",
       "     njev: 1\n",
       "   status: 0\n",
       "  success: True\n",
       "        x: array([0., 0.])"
      ]
     },
     "execution_count": 159,
     "metadata": {},
     "output_type": "execute_result"
    }
   ],
   "source": [
    "theta_init = [0,0]\n",
    "res_r = minimize(lnL_r, theta_init, args=df)\n",
    "res_r"
   ]
  },
  {
   "cell_type": "code",
   "execution_count": 160,
   "metadata": {
    "deletable": false,
    "nbgrader": {
     "cell_type": "code",
     "checksum": "c972da575dd2c34eb5f1971b5d1cc4b1",
     "grade": false,
     "grade_id": "cell-d58c71fd7ff43669",
     "locked": false,
     "schema_version": 3,
     "solution": true,
     "task": false
    }
   },
   "outputs": [
    {
     "data": {
      "text/plain": [
       "(11.569577617761354, 5.991464547107979)"
      ]
     },
     "execution_count": 160,
     "metadata": {},
     "output_type": "execute_result"
    }
   ],
   "source": [
    "lnL_un = res.fun\n",
    "lnL_r = res_r.fun\n",
    "\n",
    "LR_obs = 2*(lnL_r - lnL_un)\n",
    "LR_crit = stats.chi2(df=2).ppf(0.95)\n",
    "LR_obs, LR_crit"
   ]
  },
  {
   "cell_type": "markdown",
   "metadata": {},
   "source": [
    "> __Вывод:__ гипотеза отвергается, так как наблюдаемое значение статистики превышает критическое. Значит, вероятность поломки зависит определенным образом от температуры. Оптимальные коэффициенты мы нашли методом максимального правдоподобия."
   ]
  },
  {
   "cell_type": "code",
   "execution_count": null,
   "metadata": {
    "deletable": false,
    "editable": false,
    "nbgrader": {
     "cell_type": "code",
     "checksum": "217df7d8de63f4cd23c77083d5efb55d",
     "grade": true,
     "grade_id": "cell-1144bb1c976e84e0",
     "locked": true,
     "points": 1,
     "schema_version": 3,
     "solution": false,
     "task": false
    }
   },
   "outputs": [],
   "source": [
    "assert np.abs(lnL_un - 10.1576) < 1e-4\n",
    "\n",
    "# несколько похожих скрытых тестов"
   ]
  },
  {
   "cell_type": "markdown",
   "metadata": {},
   "source": [
    "В день катастрофы температура уплотнителя была $31$ градус по Фарингейту. __Предскажем с помощью построенной модели вероятность катастрофы__ (для этого подставим в формулу поиска вероятности получившиеся оценки и температуру)."
   ]
  },
  {
   "cell_type": "code",
   "execution_count": 161,
   "metadata": {
    "deletable": false,
    "nbgrader": {
     "cell_type": "code",
     "checksum": "2cef03e68df8a9713b232520e60471b7",
     "grade": false,
     "grade_id": "cell-dc73e72855a06d26",
     "locked": false,
     "schema_version": 3,
     "solution": true,
     "task": false
    }
   },
   "outputs": [
    {
     "data": {
      "text/plain": [
       "0.9996088006110045"
      ]
     },
     "execution_count": 161,
     "metadata": {},
     "output_type": "execute_result"
    }
   ],
   "source": [
    "xnew = 31\n",
    "alpha, beta = res.x\n",
    "\n",
    "p_hat = 1 / (1 + np.exp(-(alpha + beta*xnew)))\n",
    "p_hat"
   ]
  },
  {
   "cell_type": "markdown",
   "metadata": {},
   "source": [
    "Вероятность катастрофы в таком случае практически единица (в итоге катастрофа и случилась)"
   ]
  },
  {
   "cell_type": "code",
   "execution_count": 162,
   "metadata": {
    "deletable": false,
    "editable": false,
    "nbgrader": {
     "cell_type": "code",
     "checksum": "ad995b59df6bc7056e40d1b823061fcc",
     "grade": true,
     "grade_id": "cell-7fbcaf3d5937cf8c",
     "locked": true,
     "points": 1,
     "schema_version": 3,
     "solution": false,
     "task": false
    }
   },
   "outputs": [],
   "source": [
    "assert np.abs(p_hat - 0.9996) < 1e-4\n",
    "\n",
    "# несколько похожих скрытых тестов"
   ]
  },
  {
   "cell_type": "markdown",
   "metadata": {},
   "source": [
    "Оценим ту же самую моделю с помощью пакета `statsmodels`."
   ]
  },
  {
   "cell_type": "code",
   "execution_count": 167,
   "metadata": {},
   "outputs": [
    {
     "name": "stdout",
     "output_type": "stream",
     "text": [
      "Optimization terminated successfully.\n",
      "         Current function value: 0.441635\n",
      "         Iterations 7\n"
     ]
    },
    {
     "data": {
      "text/html": [
       "<table class=\"simpletable\">\n",
       "<caption>Logit Regression Results</caption>\n",
       "<tr>\n",
       "  <th>Dep. Variable:</th>       <td>Incident</td>     <th>  No. Observations:  </th>  <td>    23</td> \n",
       "</tr>\n",
       "<tr>\n",
       "  <th>Model:</th>                 <td>Logit</td>      <th>  Df Residuals:      </th>  <td>    21</td> \n",
       "</tr>\n",
       "<tr>\n",
       "  <th>Method:</th>                 <td>MLE</td>       <th>  Df Model:          </th>  <td>     1</td> \n",
       "</tr>\n",
       "<tr>\n",
       "  <th>Date:</th>            <td>Thu, 30 Nov 2023</td> <th>  Pseudo R-squ.:     </th>  <td>0.2813</td> \n",
       "</tr>\n",
       "<tr>\n",
       "  <th>Time:</th>                <td>21:33:13</td>     <th>  Log-Likelihood:    </th> <td> -10.158</td>\n",
       "</tr>\n",
       "<tr>\n",
       "  <th>converged:</th>             <td>True</td>       <th>  LL-Null:           </th> <td> -14.134</td>\n",
       "</tr>\n",
       "<tr>\n",
       "  <th>Covariance Type:</th>     <td>nonrobust</td>    <th>  LLR p-value:       </th> <td>0.004804</td>\n",
       "</tr>\n",
       "</table>\n",
       "<table class=\"simpletable\">\n",
       "<tr>\n",
       "       <td></td>          <th>coef</th>     <th>std err</th>      <th>z</th>      <th>P>|z|</th>  <th>[0.025</th>    <th>0.975]</th>  \n",
       "</tr>\n",
       "<tr>\n",
       "  <th>Intercept</th>   <td>   15.0429</td> <td>    7.379</td> <td>    2.039</td> <td> 0.041</td> <td>    0.581</td> <td>   29.505</td>\n",
       "</tr>\n",
       "<tr>\n",
       "  <th>Temperature</th> <td>   -0.2322</td> <td>    0.108</td> <td>   -2.145</td> <td> 0.032</td> <td>   -0.444</td> <td>   -0.020</td>\n",
       "</tr>\n",
       "</table>"
      ],
      "text/plain": [
       "<class 'statsmodels.iolib.summary.Summary'>\n",
       "\"\"\"\n",
       "                           Logit Regression Results                           \n",
       "==============================================================================\n",
       "Dep. Variable:               Incident   No. Observations:                   23\n",
       "Model:                          Logit   Df Residuals:                       21\n",
       "Method:                           MLE   Df Model:                            1\n",
       "Date:                Thu, 30 Nov 2023   Pseudo R-squ.:                  0.2813\n",
       "Time:                        21:33:13   Log-Likelihood:                -10.158\n",
       "converged:                       True   LL-Null:                       -14.134\n",
       "Covariance Type:            nonrobust   LLR p-value:                  0.004804\n",
       "===============================================================================\n",
       "                  coef    std err          z      P>|z|      [0.025      0.975]\n",
       "-------------------------------------------------------------------------------\n",
       "Intercept      15.0429      7.379      2.039      0.041       0.581      29.505\n",
       "Temperature    -0.2322      0.108     -2.145      0.032      -0.444      -0.020\n",
       "===============================================================================\n",
       "\"\"\""
      ]
     },
     "execution_count": 167,
     "metadata": {},
     "output_type": "execute_result"
    }
   ],
   "source": [
    "import statsmodels.formula.api as smf\n",
    "\n",
    "model = smf.logit(data=df, formula='Incident ~ 1 + Temperature').fit()\n",
    "model.summary()"
   ]
  },
  {
   "cell_type": "markdown",
   "metadata": {},
   "source": [
    "Согласно протоколу: \n",
    "\n",
    "- Значение логарифма правдоподобия: `logLik`\n",
    "- Оценка константы $\\alpha$: `alph`\n",
    "- По свойствам метода максимального правдоподобия $\\hat{\\beta} \\sim N(\\beta, \\hat{\\sigma}^2_{\\beta})$, значение $\\hat{\\sigma}_{\\beta}$ равно: `std_beta`\n",
    "- p-значение для гипотезы $H_0: \\beta = 0$: `pval_beta`\n",
    "- Гипотеза $H_0: \\beta = 0$ на $5\\%$ уровне значимости отвергается: `is_h` - значение `False`"
   ]
  },
  {
   "cell_type": "code",
   "execution_count": 168,
   "metadata": {
    "deletable": false,
    "nbgrader": {
     "cell_type": "code",
     "checksum": "b712daa0d63faf93a911d3d78b955676",
     "grade": false,
     "grade_id": "cell-47498286ac9be898",
     "locked": false,
     "schema_version": 3,
     "solution": true,
     "task": false
    }
   },
   "outputs": [],
   "source": [
    "logLik = -10.158\n",
    "alph = 15.0429\n",
    "std_beta = 0.108\n",
    "pval_beta = 0.032\n",
    "is_h = False"
   ]
  },
  {
   "cell_type": "code",
   "execution_count": 169,
   "metadata": {
    "deletable": false,
    "editable": false,
    "nbgrader": {
     "cell_type": "code",
     "checksum": "020a402b6e1b4e91aeefda77d1a9df07",
     "grade": true,
     "grade_id": "cell-738394af91e6aa78",
     "locked": true,
     "points": 1,
     "schema_version": 3,
     "solution": false,
     "task": false
    }
   },
   "outputs": [],
   "source": [
    "assert np.abs(logLik + 10.158) < 1e-4\n",
    "\n",
    "# несколько похожих скрытых тестов"
   ]
  },
  {
   "cell_type": "markdown",
   "metadata": {},
   "source": [
    "  "
   ]
  }
 ],
 "metadata": {
  "kernelspec": {
   "display_name": "Python 3 (ipykernel)",
   "language": "python",
   "name": "python3"
  },
  "language_info": {
   "codemirror_mode": {
    "name": "ipython",
    "version": 3
   },
   "file_extension": ".py",
   "mimetype": "text/x-python",
   "name": "python",
   "nbconvert_exporter": "python",
   "pygments_lexer": "ipython3",
   "version": "3.9.7"
  }
 },
 "nbformat": 4,
 "nbformat_minor": 2
}
